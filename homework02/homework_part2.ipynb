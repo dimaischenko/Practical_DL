{
 "cells": [
  {
   "cell_type": "markdown",
   "metadata": {
    "collapsed": true
   },
   "source": [
    "# Homework 2.2: The Quest For A Better Network\n",
    "\n",
    "In this assignment you will build a monster network to solve Tiny ImageNet image classification.\n",
    "\n",
    "This notebook is intended as a sequel to seminar 3, please give it a try if you haven't done so yet."
   ]
  },
  {
   "cell_type": "code",
   "execution_count": 1,
   "metadata": {},
   "outputs": [],
   "source": [
    "import numpy as np\n",
    "import matplotlib.pyplot as plt\n",
    "import torchvision\n",
    "from torchvision import transforms\n",
    "import torch\n",
    "from torch import nn\n",
    "\n",
    "import torch.nn.functional as F\n",
    "from torch.autograd import Variable\n",
    "\n",
    "import time\n",
    "import numpy as np\n",
    "import tqdm\n",
    "\n",
    "import pandas as pd\n",
    "import os\n",
    "import shutil\n",
    "import glob\n",
    "\n",
    "from sklearn.metrics import accuracy_score\n",
    "\n",
    "from IPython.display import clear_output\n",
    "\n",
    "%matplotlib inline"
   ]
  },
  {
   "cell_type": "code",
   "execution_count": 2,
   "metadata": {},
   "outputs": [],
   "source": [
    "from tiny_img import download_tinyImg200\n",
    "\n",
    "#data_path = '.'\n",
    "#download_tinyImg200(data_path)"
   ]
  },
  {
   "cell_type": "markdown",
   "metadata": {},
   "source": [
    "# Datasets preparation\n",
    "\n",
    "At first step prepare datasets folders: create new `train` and `val` from original `train` dataset. Reformat original `val` dataset to new format: separate folder per each class."
   ]
  },
  {
   "cell_type": "code",
   "execution_count": 3,
   "metadata": {},
   "outputs": [],
   "source": [
    "np.random.seed(15)\n",
    "val_size = 0.1"
   ]
  },
  {
   "cell_type": "code",
   "execution_count": 4,
   "metadata": {},
   "outputs": [
    {
     "data": {
      "application/vnd.jupyter.widget-view+json": {
       "model_id": "25135379cdd54ac6aace3389d64f7d98",
       "version_major": 2,
       "version_minor": 0
      },
      "text/plain": [
       "HBox(children=(IntProgress(value=0, max=100000), HTML(value='')))"
      ]
     },
     "metadata": {},
     "output_type": "display_data"
    },
    {
     "name": "stdout",
     "output_type": "stream",
     "text": [
      "\n"
     ]
    }
   ],
   "source": [
    "shutil.rmtree('tiny-imagenet-200/shad/')\n",
    "\n",
    "for image_path in tqdm.tqdm_notebook(glob.glob(\"tiny-imagenet-200/train/*/images/*\")):\n",
    "    image_name = os.path.basename(image_path)\n",
    "    label = image_path.split(\"/\")[2]\n",
    "    \n",
    "    if np.random.rand() <= val_size:\n",
    "        image_dir = \"tiny-imagenet-200/shad/val/{}\".format(label)\n",
    "    else:\n",
    "        image_dir = \"tiny-imagenet-200/shad/train/{}\".format(label)\n",
    "        \n",
    "    os.makedirs(image_dir, exist_ok=True)\n",
    "    shutil.copyfile(image_path, \"{}/{}\".format(image_dir, image_name))"
   ]
  },
  {
   "cell_type": "code",
   "execution_count": 5,
   "metadata": {},
   "outputs": [
    {
     "data": {
      "application/vnd.jupyter.widget-view+json": {
       "model_id": "6017e0e5d1ef49a3a2a9fff74c461418",
       "version_major": 2,
       "version_minor": 0
      },
      "text/plain": [
       "HBox(children=(IntProgress(value=1, bar_style='info', max=1), HTML(value='')))"
      ]
     },
     "metadata": {},
     "output_type": "display_data"
    },
    {
     "name": "stdout",
     "output_type": "stream",
     "text": [
      "\n"
     ]
    }
   ],
   "source": [
    "data = pd.read_csv(\"tiny-imagenet-200/val/val_annotations.txt\", header=None, sep=\"\\t\")\n",
    "\n",
    "for img, label in tqdm.tqdm_notebook(zip(data[0], data[1])):\n",
    "    os.makedirs(\"tiny-imagenet-200/shad/test/{}\".format(label), exist_ok=True)\n",
    "    shutil.copyfile(\"tiny-imagenet-200/val/images/{}\".format(img),\n",
    "             \"tiny-imagenet-200/shad/test/{}/{}\".format(label, img))"
   ]
  },
  {
   "cell_type": "markdown",
   "metadata": {},
   "source": [
    "# Training"
   ]
  },
  {
   "cell_type": "code",
   "execution_count": 30,
   "metadata": {},
   "outputs": [],
   "source": [
    "class Flatten(nn.Module):\n",
    "    def forward(self, input):\n",
    "        return input.view(input.size(0), -1)"
   ]
  },
  {
   "cell_type": "code",
   "execution_count": 31,
   "metadata": {},
   "outputs": [],
   "source": [
    "device = torch.device(\"cuda:0\")\n",
    "num_classes = 200"
   ]
  },
  {
   "cell_type": "code",
   "execution_count": 32,
   "metadata": {},
   "outputs": [],
   "source": [
    "batch_size = 512"
   ]
  },
  {
   "cell_type": "code",
   "execution_count": 33,
   "metadata": {},
   "outputs": [],
   "source": [
    "imagenet_means = (0.4914, 0.4822, 0.4465)\n",
    "imagenet_stds = (0.2023, 0.1994, 0.2010)"
   ]
  },
  {
   "cell_type": "code",
   "execution_count": 34,
   "metadata": {},
   "outputs": [],
   "source": [
    "transform_train = transforms.Compose([\n",
    "    transforms.RandomHorizontalFlip(),\n",
    "    transforms.RandomCrop(size=56),\n",
    "    transforms.ToTensor(),\n",
    "    transforms.Normalize(imagenet_means, imagenet_stds),\n",
    "])"
   ]
  },
  {
   "cell_type": "code",
   "execution_count": 35,
   "metadata": {},
   "outputs": [],
   "source": [
    "transform_test = transforms.Compose([\n",
    "    transforms.CenterCrop(56),\n",
    "    transforms.ToTensor(),\n",
    "    transforms.Normalize(imagenet_means, imagenet_stds)\n",
    "])"
   ]
  },
  {
   "cell_type": "code",
   "execution_count": 36,
   "metadata": {},
   "outputs": [],
   "source": [
    "train_dataset = torchvision.datasets.ImageFolder('tiny-imagenet-200/shad/train', transform=transform_train)\n",
    "val_dataset = torchvision.datasets.ImageFolder('tiny-imagenet-200/shad/val', transform=transform_test)"
   ]
  },
  {
   "cell_type": "code",
   "execution_count": 37,
   "metadata": {},
   "outputs": [],
   "source": [
    "train_batch_gen = torch.utils.data.DataLoader(train_dataset, batch_size=batch_size, shuffle=True)\n",
    "val_batch_gen = torch.utils.data.DataLoader(val_dataset, batch_size=batch_size, shuffle=False)"
   ]
  },
  {
   "cell_type": "code",
   "execution_count": null,
   "metadata": {},
   "outputs": [],
   "source": []
  },
  {
   "cell_type": "code",
   "execution_count": 44,
   "metadata": {},
   "outputs": [],
   "source": [
    "model = nn.Sequential(\n",
    "    \n",
    "    nn.Conv2d(3, 32, kernel_size=3, padding=1),\n",
    "    nn.BatchNorm2d(32),\n",
    "    nn.ReLU(inplace=True),\n",
    "    nn.Conv2d(32, 32, kernel_size=3, padding=1),\n",
    "    nn.BatchNorm2d(32),\n",
    "    nn.ReLU(inplace=True),\n",
    "    nn.Conv2d(32, 32, kernel_size=3, padding=1),\n",
    "    nn.BatchNorm2d(32),\n",
    "    nn.ReLU(inplace=True),\n",
    "    \n",
    "    nn.MaxPool2d(kernel_size=2),\n",
    "    \n",
    "    nn.Conv2d(32, 48, kernel_size=3, padding=1),\n",
    "    nn.BatchNorm2d(48),\n",
    "    nn.ReLU(inplace=True),\n",
    "    nn.Conv2d(48, 48, kernel_size=3, padding=1),\n",
    "    nn.BatchNorm2d(48),\n",
    "    nn.ReLU(inplace=True),\n",
    "    nn.Conv2d(48, 48, kernel_size=3, padding=1),\n",
    "    nn.BatchNorm2d(48),\n",
    "    nn.ReLU(inplace=True),\n",
    "    \n",
    "    nn.MaxPool2d(kernel_size=2),\n",
    "    \n",
    "    nn.Conv2d(48, 64, kernel_size=3, padding=1),\n",
    "    nn.BatchNorm2d(64),\n",
    "    nn.ReLU(inplace=True),\n",
    "    nn.Conv2d(64, 64, kernel_size=3, padding=1),\n",
    "    nn.BatchNorm2d(64),\n",
    "    nn.ReLU(inplace=True),\n",
    "    nn.Conv2d(64, 64, kernel_size=3, padding=1),\n",
    "    nn.BatchNorm2d(64),\n",
    "    nn.ReLU(inplace=True),\n",
    "    \n",
    "    nn.MaxPool2d(kernel_size=2),\n",
    "    \n",
    "    nn.Conv2d(64, 96, kernel_size=3, padding=1),\n",
    "    nn.BatchNorm2d(96),\n",
    "    nn.ReLU(inplace=True),\n",
    "    nn.Conv2d(96, 96, kernel_size=3, padding=1),\n",
    "    nn.BatchNorm2d(96),\n",
    "    nn.ReLU(inplace=True),\n",
    "    nn.Conv2d(96, 96, kernel_size=3, padding=1),\n",
    "    nn.BatchNorm2d(96),\n",
    "    nn.ReLU(inplace=True),\n",
    "    \n",
    "    nn.MaxPool2d(kernel_size=2),\n",
    "    \n",
    "    Flatten(),\n",
    "    nn.ReLU(),\n",
    "    nn.Dropout(0.5),\n",
    "    nn.Linear(864, 864),\n",
    "    nn.ReLU(),\n",
    "    nn.Dropout(0.5),\n",
    "    nn.Linear(864, num_classes)\n",
    ")"
   ]
  },
  {
   "cell_type": "code",
   "execution_count": 45,
   "metadata": {},
   "outputs": [],
   "source": [
    "%%capture\n",
    "model.to(device)"
   ]
  },
  {
   "cell_type": "code",
   "execution_count": 46,
   "metadata": {},
   "outputs": [],
   "source": [
    "opt = torch.optim.SGD(model.parameters(), lr=0.01, momentum=0.9, weight_decay=1e-5)\n",
    "critertion =  criterion = nn.CrossEntropyLoss()"
   ]
  },
  {
   "cell_type": "code",
   "execution_count": 53,
   "metadata": {},
   "outputs": [],
   "source": [
    "num_epochs = 10"
   ]
  },
  {
   "cell_type": "code",
   "execution_count": 48,
   "metadata": {},
   "outputs": [],
   "source": [
    "train_losses, val_losses, val_accs = [], [], []"
   ]
  },
  {
   "cell_type": "code",
   "execution_count": 60,
   "metadata": {},
   "outputs": [
    {
     "data": {
      "image/png": "[encoded data removed]",
      "text/plain": [
       "<Figure size 432x288 with 1 Axes>"
      ]
     },
     "metadata": {
      "needs_background": "light"
     },
     "output_type": "display_data"
    },
    {
     "name": "stdout",
     "output_type": "stream",
     "text": [
      "Epoch 10 of 10 took 146.839s\n",
      "  training loss (in-iteration): \t2.2656\n",
      "  validation loss (in-iteration): \t2.5005\n",
      "  validation accuracy: \t\t\t39.09 %\n"
     ]
    }
   ],
   "source": [
    "for epoch in range(num_epochs):\n",
    "    start_time = time.time()\n",
    "    \n",
    "    # train\n",
    "    \n",
    "    model.train(True)\n",
    "    epoch_train_losses = []\n",
    "    for (X_batch, y_batch) in tqdm.tqdm_notebook(train_batch_gen):\n",
    "        logits = model(torch.FloatTensor(X_batch).to(device))\n",
    "        loss = criterion(logits, torch.LongTensor(y_batch).to(device))\n",
    "        \n",
    "        loss.backward()\n",
    "        opt.step()\n",
    "        \n",
    "        opt.zero_grad()\n",
    "        \n",
    "        epoch_train_losses.append(loss.cpu().item())\n",
    "        \n",
    "    train_losses.append(np.mean(epoch_train_losses))\n",
    "    \n",
    "    # validation\n",
    "    \n",
    "    model.train(False)\n",
    "    epoch_val_losses, epoch_val_accs = [], []\n",
    "    for X_batch, y_batch in tqdm.tqdm_notebook(val_batch_gen):\n",
    "        \n",
    "        logits = model(torch.FloatTensor(X_batch).to(device))\n",
    "        loss = criterion(logits, torch.LongTensor(y_batch).to(device))\n",
    "        \n",
    "        y_pred = logits.max(1)[1].data\n",
    "        \n",
    "        epoch_val_losses.append(loss.cpu().item())\n",
    "        epoch_val_accs.append(np.mean( (y_batch.cpu() == y_pred.cpu()).numpy() ))\n",
    "    \n",
    "    val_losses.append(np.mean(epoch_val_losses))\n",
    "    val_accs.append(np.mean(epoch_val_accs))\n",
    "    \n",
    "    clear_output()\n",
    "    \n",
    "    plt.plot(range(len(train_losses)), train_losses, label=\"Train Loss\")\n",
    "    plt.plot(range(len(val_losses)), val_losses, label=\"Val Loss\")\n",
    "    plt.xlabel(\"Epoch\")\n",
    "    plt.ylabel(\"Loss\")\n",
    "    plt.legend()\n",
    "    plt.show()\n",
    "    \n",
    "    print(\"Epoch {} of {} took {:.3f}s\".format(\n",
    "        epoch + 1, num_epochs, time.time() - start_time))\n",
    "    print(\"  training loss (in-iteration): \\t{:.4f}\".format(\n",
    "        np.mean(epoch_train_losses)))\n",
    "    print(\"  validation loss (in-iteration): \\t{:.4f}\".format(\n",
    "        np.mean(epoch_val_losses)))\n",
    "    print(\"  validation accuracy: \\t\\t\\t{:.2f} %\".format(\n",
    "        np.mean(epoch_val_accs) * 100))"
   ]
  },
  {
   "cell_type": "markdown",
   "metadata": {},
   "source": [
    "# Testing"
   ]
  },
  {
   "cell_type": "code",
   "execution_count": 61,
   "metadata": {},
   "outputs": [],
   "source": [
    "test_dataset = torchvision.datasets.ImageFolder('tiny-imagenet-200/shad/test', transform=transform_test)\n",
    "test_batch_gen = torch.utils.data.DataLoader(test_dataset, batch_size=batch_size, shuffle=True)"
   ]
  },
  {
   "cell_type": "code",
   "execution_count": 62,
   "metadata": {},
   "outputs": [
    {
     "data": {
      "application/vnd.jupyter.widget-view+json": {
       "model_id": "ebdd420856be421d9797b30436cafcd3",
       "version_major": 2,
       "version_minor": 0
      },
      "text/plain": [
       "HBox(children=(IntProgress(value=0, max=20), HTML(value='')))"
      ]
     },
     "metadata": {},
     "output_type": "display_data"
    },
    {
     "name": "stdout",
     "output_type": "stream",
     "text": [
      "\n"
     ]
    }
   ],
   "source": [
    "model.train(False)\n",
    "\n",
    "y_true, y_pred = [], []\n",
    "for X_batch, y_batch in tqdm.tqdm_notebook(test_batch_gen):\n",
    "\n",
    "    logits = model(torch.FloatTensor(X_batch).to(device))\n",
    "    y_predicted = logits.max(1)[1].cpu().numpy()\n",
    "    \n",
    "    y_true += list(y_batch.numpy())\n",
    "    y_pred += list(y_predicted)"
   ]
  },
  {
   "cell_type": "code",
   "execution_count": 63,
   "metadata": {},
   "outputs": [],
   "source": [
    "test_accuracy = accuracy_score(y_true, y_pred)"
   ]
  },
  {
   "cell_type": "code",
   "execution_count": 64,
   "metadata": {},
   "outputs": [
    {
     "name": "stdout",
     "output_type": "stream",
     "text": [
      "Final results:\n",
      "  test accuracy:\t\t40.43 %\n",
      "Achievement unlocked: 110lvl Warlock!\n"
     ]
    }
   ],
   "source": [
    "print(\"Final results:\")\n",
    "print(\"  test accuracy:\\t\\t{:.2f} %\".format(\n",
    "    test_accuracy * 100))\n",
    "\n",
    "if test_accuracy * 100 > 40:\n",
    "    print(\"Achievement unlocked: 110lvl Warlock!\")\n",
    "elif test_accuracy * 100 > 35:\n",
    "    print(\"Achievement unlocked: 80lvl Warlock!\")\n",
    "elif test_accuracy * 100 > 30:\n",
    "    print(\"Achievement unlocked: 70lvl Warlock!\")\n",
    "elif test_accuracy * 100 > 25:\n",
    "    print(\"Achievement unlocked: 60lvl Warlock!\")\n",
    "else:\n",
    "    print(\"We need more magic! Follow instructons below\")"
   ]
  },
  {
   "cell_type": "markdown",
   "metadata": {},
   "source": [
    "```\n",
    "\n",
    "```\n",
    "\n",
    "```\n",
    "\n",
    "```\n",
    "\n",
    "```\n",
    "\n",
    "```\n",
    "\n",
    "\n",
    "# Report"
   ]
  },
  {
   "cell_type": "markdown",
   "metadata": {},
   "source": [
    "### Hi, my name is `senior Dima`, and here's my story\n",
    "\n",
    "A long time ago in a galaxy far far away, when it was still more than an hour before the deadline, i got an idea:\n",
    "\n",
    "##### I gonna build a neural network, that\n",
    "classify TinyImageNet data. I decided to use Deep Convolutional Network with a lot of Conv2D, BatchNorm, ReLU and MaxPooling layers.\n",
    "\n",
    "##### One day, with no signs of warning,\n",
    "Actually I started with not so deep network. Tried several Conv2D (3x3 kernels) layers with ReLU and single BatchNorm, finished with MaxPooling layer. Network trained fast but validation accuracy was not so good (around 30%) after going on plateu. So I decided to do some more sophisticated things. I looked at different previous SOTA networks, tried torchvision zoo, looked that it work good (especially Resnet family) and after some experiments constructed own network based on VGG family style.\n",
    "\n",
    "##### Finally, after __  iterations, __ mugs of water\n",
    "\n",
    "So, my final Network has Convolutional feature extractor consists of four blocks with Conv2D layers (with ReLU and BatchNorm) separated by MaxPooling2D layers. Deeper Conv2D layers have more channels. The last layers is several fully connected layers separated by ReLU and Dropout. I applied SGD optimizer with momentum and add weight_decay (L2 regularization) while computing loss. Additionally I applied minor data augmentation: random horizontal flip and random crop of 56x56 frame from original image, at test step I used CenterCrop with the same size.\n",
    "\n",
    "That, having wasted one Saturday and 1000 iterations of my life training, got\n",
    "\n",
    "* accuracy on training: didn't measure, calc just loss\n",
    "* accuracy on validation: 39.09%\n",
    "* accuracy on test: *40.43%* (warlock!)\n",
    "\n",
    "\n",
    "Thanks for your attention!"
   ]
  }
 ],
 "metadata": {
  "kernelspec": {
   "display_name": "Python 3",
   "language": "python",
   "name": "python3"
  },
  "language_info": {
   "codemirror_mode": {
    "name": "ipython",
    "version": 3
   },
   "file_extension": ".py",
   "mimetype": "text/x-python",
   "name": "python",
   "nbconvert_exporter": "python",
   "pygments_lexer": "ipython3",
   "version": "3.5.4"
  }
 },
 "nbformat": 4,
 "nbformat_minor": 1
}
