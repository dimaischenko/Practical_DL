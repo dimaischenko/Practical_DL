{
 "cells": [
  {
   "cell_type": "markdown",
   "metadata": {},
   "source": [
    "# Natural Language Processing with Deep Learning (7 points)\n",
    "\n",
    "Today we're gonna apply the newly learned DL tools for sequence processing to the task of predicting job salary.\n",
    "\n",
    "Special thanks to [Oleg Vasilev](https://github.com/Omrigan/) for the assignment core (orignally written for theano/tensorflow)."
   ]
  },
  {
   "cell_type": "code",
   "execution_count": 1,
   "metadata": {},
   "outputs": [],
   "source": [
    "import numpy as np\n",
    "import pandas as pd\n",
    "import matplotlib.pyplot as plt\n",
    "%matplotlib inline\n",
    "\n",
    "from IPython.display import clear_output"
   ]
  },
  {
   "cell_type": "markdown",
   "metadata": {},
   "source": [
    "### About the challenge\n",
    "For starters, let's download the data from __[here](https://yadi.sk/d/vVEOWPFY3NruT7)__.\n",
    "\n",
    "You can also get it from the competition [page](https://www.kaggle.com/c/job-salary-prediction/data) (in that case, pick `Train_rev1.*`).\n",
    "\n",
    "\n",
    "Our task is to predict one number, __SalaryNormalized__, in the sense of minimizing __Mean Absolute Error__.\n",
    "\n",
    "<img src=\"https://storage.googleapis.com/kaggle-competitions/kaggle/3342/media/salary%20prediction%20engine%20v2.png\" width=400px>\n",
    "\n",
    "To do so, our model ca access a number of features:\n",
    "* Free text: __`Title`__ and  __`FullDescription`__\n",
    "* Categorical: __`Category`__, __`Company`__, __`LocationNormalized`__, __`ContractType`__, and __`ContractTime`__.\n",
    "\n",
    "\n",
    "You can read more [in the official description](https://www.kaggle.com/c/job-salary-prediction#description)."
   ]
  },
  {
   "cell_type": "code",
   "execution_count": 2,
   "metadata": {},
   "outputs": [
    {
     "data": {
      "text/plain": [
       "79252     Our client is currently looking for a Gas/Serv...\n",
       "14537     Registrar’s Department, Student Operations Sup...\n",
       "135308    Healthcare Assistants / Senior Healthcare Assi...\n",
       "Name: FullDescription, dtype: object"
      ]
     },
     "execution_count": 2,
     "metadata": {},
     "output_type": "execute_result"
    }
   ],
   "source": [
    "data = pd.read_csv(\"./Train_rev1.csv\", index_col=None)\n",
    "data['Log1pSalary'] = np.log1p(data['SalaryNormalized']).astype('float32')\n",
    "\n",
    "text_columns = [\"Title\", \"FullDescription\"]\n",
    "categorical_columns = [\"Category\", \"Company\", \"LocationNormalized\", \"ContractType\", \"ContractTime\"]\n",
    "target_column = \"Log1pSalary\"\n",
    "data[categorical_columns] = data[categorical_columns].fillna('NaN') # cast nan to string\n",
    "\n",
    "data.sample(3)['FullDescription']"
   ]
  },
  {
   "cell_type": "code",
   "execution_count": 3,
   "metadata": {},
   "outputs": [
    {
     "data": {
      "text/html": [
       "<div>\n",
       "<style scoped>\n",
       "    .dataframe tbody tr th:only-of-type {\n",
       "        vertical-align: middle;\n",
       "    }\n",
       "\n",
       "    .dataframe tbody tr th {\n",
       "        vertical-align: top;\n",
       "    }\n",
       "\n",
       "    .dataframe thead th {\n",
       "        text-align: right;\n",
       "    }\n",
       "</style>\n",
       "<table border=\"1\" class=\"dataframe\">\n",
       "  <thead>\n",
       "    <tr style=\"text-align: right;\">\n",
       "      <th></th>\n",
       "      <th>Id</th>\n",
       "      <th>Title</th>\n",
       "      <th>FullDescription</th>\n",
       "      <th>LocationRaw</th>\n",
       "      <th>LocationNormalized</th>\n",
       "      <th>ContractType</th>\n",
       "      <th>ContractTime</th>\n",
       "      <th>Company</th>\n",
       "      <th>Category</th>\n",
       "      <th>SalaryRaw</th>\n",
       "      <th>SalaryNormalized</th>\n",
       "      <th>SourceName</th>\n",
       "      <th>Log1pSalary</th>\n",
       "    </tr>\n",
       "  </thead>\n",
       "  <tbody>\n",
       "    <tr>\n",
       "      <th>55326</th>\n",
       "      <td>68679301</td>\n",
       "      <td>Consumer Marketing Manager</td>\n",
       "      <td>Marketing Communications Advertising and Media...</td>\n",
       "      <td>City London South East</td>\n",
       "      <td>London</td>\n",
       "      <td>NaN</td>\n",
       "      <td>permanent</td>\n",
       "      <td>Hudson</td>\n",
       "      <td>Creative &amp; Design Jobs</td>\n",
       "      <td>45000 - 48000 per annum + Benefits</td>\n",
       "      <td>46500</td>\n",
       "      <td>totaljobs.com</td>\n",
       "      <td>10.747229</td>\n",
       "    </tr>\n",
       "    <tr>\n",
       "      <th>22289</th>\n",
       "      <td>67385336</td>\n",
       "      <td>Transition Officer</td>\n",
       "      <td>Hours: 37 hours per week Contract: 6 months in...</td>\n",
       "      <td>Northern Ireland</td>\n",
       "      <td>Northern Ireland</td>\n",
       "      <td>full_time</td>\n",
       "      <td>contract</td>\n",
       "      <td>The Cedar Foundation</td>\n",
       "      <td>Social work Jobs</td>\n",
       "      <td>15000 - 25000</td>\n",
       "      <td>20000</td>\n",
       "      <td>nijobs.com</td>\n",
       "      <td>9.903538</td>\n",
       "    </tr>\n",
       "    <tr>\n",
       "      <th>195366</th>\n",
       "      <td>71799375</td>\n",
       "      <td>Senior / Team Lead Java Developer Jobs In Scot...</td>\n",
       "      <td>Senior / Team Lead Java Developer REF  **** Ed...</td>\n",
       "      <td>Glasgow</td>\n",
       "      <td>Glasgow</td>\n",
       "      <td>NaN</td>\n",
       "      <td>contract</td>\n",
       "      <td>Eden Scott</td>\n",
       "      <td>IT Jobs</td>\n",
       "      <td>Up to 400 Per Day</td>\n",
       "      <td>96000</td>\n",
       "      <td>jobsinscotland.com</td>\n",
       "      <td>11.472114</td>\n",
       "    </tr>\n",
       "  </tbody>\n",
       "</table>\n",
       "</div>"
      ],
      "text/plain": [
       "              Id                                              Title  \\\n",
       "55326   68679301                         Consumer Marketing Manager   \n",
       "22289   67385336                                 Transition Officer   \n",
       "195366  71799375  Senior / Team Lead Java Developer Jobs In Scot...   \n",
       "\n",
       "                                          FullDescription  \\\n",
       "55326   Marketing Communications Advertising and Media...   \n",
       "22289   Hours: 37 hours per week Contract: 6 months in...   \n",
       "195366  Senior / Team Lead Java Developer REF  **** Ed...   \n",
       "\n",
       "                   LocationRaw LocationNormalized ContractType ContractTime  \\\n",
       "55326   City London South East             London          NaN    permanent   \n",
       "22289         Northern Ireland   Northern Ireland    full_time     contract   \n",
       "195366                 Glasgow            Glasgow          NaN     contract   \n",
       "\n",
       "                     Company                Category  \\\n",
       "55326                 Hudson  Creative & Design Jobs   \n",
       "22289   The Cedar Foundation        Social work Jobs   \n",
       "195366            Eden Scott                 IT Jobs   \n",
       "\n",
       "                                 SalaryRaw  SalaryNormalized  \\\n",
       "55326   45000 - 48000 per annum + Benefits             46500   \n",
       "22289                        15000 - 25000             20000   \n",
       "195366                   Up to 400 Per Day             96000   \n",
       "\n",
       "                SourceName  Log1pSalary  \n",
       "55326        totaljobs.com    10.747229  \n",
       "22289           nijobs.com     9.903538  \n",
       "195366  jobsinscotland.com    11.472114  "
      ]
     },
     "execution_count": 3,
     "metadata": {},
     "output_type": "execute_result"
    }
   ],
   "source": [
    "data.sample(3)"
   ]
  },
  {
   "cell_type": "markdown",
   "metadata": {},
   "source": [
    "### The NLP part\n",
    "\n",
    "To even begin training our neural network, we're gonna need to preprocess the text features: tokenize it and build the token vocabularies.\n",
    "\n",
    "Since it is not an NLP course, we're gonna use simple built-in NLTK tokenization."
   ]
  },
  {
   "cell_type": "code",
   "execution_count": 4,
   "metadata": {},
   "outputs": [
    {
     "name": "stdout",
     "output_type": "stream",
     "text": [
      "Before\n",
      "0         Engineering Systems Analyst\n",
      "100000                   HR Assistant\n",
      "200000           Senior EC&I Engineer\n",
      "Name: Title, dtype: object\n"
     ]
    }
   ],
   "source": [
    "print(\"Before\")\n",
    "print(data[\"Title\"][::100000])"
   ]
  },
  {
   "cell_type": "code",
   "execution_count": 5,
   "metadata": {},
   "outputs": [],
   "source": [
    "import nltk\n",
    "tokenizer = nltk.tokenize.WordPunctTokenizer()\n",
    "\n",
    "for col in text_columns:\n",
    "    data[col] = data[col].apply(lambda l: ' '.join(tokenizer.tokenize(str(l).lower())))"
   ]
  },
  {
   "cell_type": "markdown",
   "metadata": {},
   "source": [
    "Now we can assume that our text is a space-separated list of tokens:"
   ]
  },
  {
   "cell_type": "code",
   "execution_count": 6,
   "metadata": {},
   "outputs": [
    {
     "name": "stdout",
     "output_type": "stream",
     "text": [
      "After\n",
      "0         engineering systems analyst\n",
      "100000                   hr assistant\n",
      "200000         senior ec & i engineer\n",
      "Name: Title, dtype: object\n"
     ]
    }
   ],
   "source": [
    "print(\"After\")\n",
    "print(data[\"Title\"][::100000])"
   ]
  },
  {
   "cell_type": "markdown",
   "metadata": {},
   "source": [
    "Not all words are equally useful. Some of them are typos or rare words that are only present a few times. \n",
    "\n",
    "Let's see how many times is each word present in the data so that we can build a \"white list\" of known words."
   ]
  },
  {
   "cell_type": "code",
   "execution_count": 7,
   "metadata": {},
   "outputs": [],
   "source": [
    "from collections import Counter\n",
    "token_counts = Counter()\n",
    "\n",
    "# Count how many times does each token occur in \"Title\" and \"FullDescription\"\n",
    "for col in text_columns:\n",
    "    for sent in data[col]:\n",
    "        token_counts.update(sent.split(\" \"))"
   ]
  },
  {
   "cell_type": "code",
   "execution_count": 8,
   "metadata": {},
   "outputs": [
    {
     "name": "stdout",
     "output_type": "stream",
     "text": [
      "Total unique tokens : 202704\n",
      "('and', 2657388)\n",
      "('.', 2523216)\n",
      "(',', 2318606)\n",
      "('the', 2080994)\n",
      "('to', 2019884)\n",
      "...\n",
      "('marketingexecutivefinancialservices_job', 1)\n",
      "('internalsalesrepresentative', 1)\n",
      "('bannersbasic', 1)\n",
      "Correct!\n"
     ]
    }
   ],
   "source": [
    "print(\"Total unique tokens :\", len(token_counts))\n",
    "print('\\n'.join(map(str, token_counts.most_common(n=5))))\n",
    "print('...')\n",
    "print('\\n'.join(map(str, token_counts.most_common()[-3:])))\n",
    "\n",
    "assert token_counts.most_common(1)[0][1] in  range(2600000, 2700000)\n",
    "assert len(token_counts) in range(200000, 210000)\n",
    "print('Correct!')"
   ]
  },
  {
   "cell_type": "code",
   "execution_count": 9,
   "metadata": {},
   "outputs": [
    {
     "data": {
      "text/plain": [
       "Text(0.5, 0, 'Counts')"
      ]
     },
     "execution_count": 9,
     "metadata": {},
     "output_type": "execute_result"
    },
    {
     "data": {
      "image/png": "[encoded data removed]",
      "text/plain": [
       "<Figure size 432x288 with 1 Axes>"
      ]
     },
     "metadata": {
      "needs_background": "light"
     },
     "output_type": "display_data"
    }
   ],
   "source": [
    "# Let's see how many words are there for each count\n",
    "\n",
    "_ = plt.hist(list(token_counts.values()), range=[0, 10**4], bins=50, log=True)\n",
    "plt.xlabel(\"Counts\")"
   ]
  },
  {
   "cell_type": "markdown",
   "metadata": {},
   "source": [
    "__Task 1.1__ Get a list of all tokens that occur at least 10 times."
   ]
  },
  {
   "cell_type": "code",
   "execution_count": 10,
   "metadata": {},
   "outputs": [],
   "source": [
    "min_count = 10\n",
    "\n",
    "# tokens from token_counts keys that had at least min_count occurrences throughout the dataset\n",
    "tokens = [token for token, count in token_counts.items() if count >= min_count]\n",
    "\n",
    "# Add a special tokens for unknown and empty words\n",
    "UNK, PAD = \"UNK\", \"PAD\"\n",
    "tokens = [UNK, PAD] + tokens"
   ]
  },
  {
   "cell_type": "code",
   "execution_count": 11,
   "metadata": {},
   "outputs": [
    {
     "name": "stdout",
     "output_type": "stream",
     "text": [
      "Tokens left: 34158\n",
      "Correct!\n"
     ]
    }
   ],
   "source": [
    "print(\"Tokens left:\", len(tokens))\n",
    "assert type(tokens)==list\n",
    "assert len(tokens) in range(32000,35000)\n",
    "assert 'me' in tokens\n",
    "assert UNK in tokens\n",
    "print(\"Correct!\")"
   ]
  },
  {
   "cell_type": "markdown",
   "metadata": {},
   "source": [
    "__Task 1.2__ Build an inverse token index: a dictionary from token(string) to it's index in `tokens` (int)"
   ]
  },
  {
   "cell_type": "code",
   "execution_count": 12,
   "metadata": {},
   "outputs": [],
   "source": [
    "token_to_id = dict(zip(tokens, range(len(tokens))))"
   ]
  },
  {
   "cell_type": "code",
   "execution_count": 13,
   "metadata": {},
   "outputs": [
    {
     "name": "stdout",
     "output_type": "stream",
     "text": [
      "Correct!\n"
     ]
    }
   ],
   "source": [
    "assert isinstance(token_to_id, dict)\n",
    "assert len(token_to_id) == len(tokens)\n",
    "for tok in tokens:\n",
    "    assert tokens[token_to_id[tok]] == tok\n",
    "\n",
    "print(\"Correct!\")"
   ]
  },
  {
   "cell_type": "markdown",
   "metadata": {},
   "source": [
    "And finally, let's use the vocabulary you've built to map text lines into torch-digestible matrices."
   ]
  },
  {
   "cell_type": "code",
   "execution_count": 14,
   "metadata": {},
   "outputs": [],
   "source": [
    "UNK_IX, PAD_IX = map(token_to_id.get, [UNK, PAD])\n",
    "\n",
    "def as_matrix(sequences, max_len=None):\n",
    "    \"\"\" Convert a list of tokens into a matrix with padding \"\"\"\n",
    "    if isinstance(sequences[0], str):\n",
    "        sequences = list(map(str.split, sequences))\n",
    "        \n",
    "    max_len = min(max(map(len, sequences)), max_len or float('inf'))\n",
    "    \n",
    "    matrix = np.full((len(sequences), max_len), np.int32(PAD_IX))\n",
    "    for i,seq in enumerate(sequences):\n",
    "        row_ix = [token_to_id.get(word, UNK_IX) for word in seq[:max_len]]\n",
    "        matrix[i, :len(row_ix)] = row_ix\n",
    "    \n",
    "    return matrix"
   ]
  },
  {
   "cell_type": "code",
   "execution_count": 15,
   "metadata": {},
   "outputs": [
    {
     "name": "stdout",
     "output_type": "stream",
     "text": [
      "engineering systems analyst\n",
      "hr assistant\n",
      "senior ec & i engineer\n",
      "\n",
      "Matrix:\n",
      "[[14222  9749 22249     1     1]\n",
      " [13096 16567     1     1     1]\n",
      " [ 4080 34093  7143   882 23881]]\n"
     ]
    }
   ],
   "source": [
    "#### print(\"Lines:\")\n",
    "print('\\n'.join(data[\"Title\"][::100000].values), end='\\n\\n')\n",
    "print(\"Matrix:\")\n",
    "print(as_matrix(data[\"Title\"][::100000]))"
   ]
  },
  {
   "cell_type": "markdown",
   "metadata": {},
   "source": [
    "Now let's  encode the categirical data we have.\n",
    "\n",
    "As usual, we shall use one-hot encoding for simplicity. Kudos if you implement tf-idf, target averaging or pseudo-counter-based encoding."
   ]
  },
  {
   "cell_type": "code",
   "execution_count": 16,
   "metadata": {},
   "outputs": [
    {
     "data": {
      "text/plain": [
       "DictVectorizer(dtype=<class 'numpy.float32'>, separator='=', sort=True,\n",
       "        sparse=False)"
      ]
     },
     "execution_count": 16,
     "metadata": {},
     "output_type": "execute_result"
    }
   ],
   "source": [
    "from sklearn.feature_extraction import DictVectorizer\n",
    "\n",
    "# we only consider top-1k most frequent companies to minimize memory usage\n",
    "top_companies, top_counts = zip(*Counter(data['Company']).most_common(1000))\n",
    "recognized_companies = set(top_companies)\n",
    "data[\"Company\"] = data[\"Company\"].apply(lambda comp: comp if comp in recognized_companies else \"Other\")\n",
    "\n",
    "categorical_vectorizer = DictVectorizer(dtype=np.float32, sparse=False)\n",
    "categorical_vectorizer.fit(data[categorical_columns].apply(lambda x: dict(x), axis=1))"
   ]
  },
  {
   "cell_type": "markdown",
   "metadata": {},
   "source": [
    "### The data science part\n",
    "\n",
    "Once we've learned to tokenize the data, let's design a machine learning experiment.\n",
    "\n",
    "As before, we won't focus too much on validation, opting for a simple train-test split.\n",
    "\n",
    "__To be completely rigorous,__ we've comitted a small crime here: we used the whole data for tokenization and vocabulary building. A more strict way would be to do that part on training set only. You may want to do that and measure the magnitude of changes."
   ]
  },
  {
   "cell_type": "code",
   "execution_count": 17,
   "metadata": {},
   "outputs": [
    {
     "name": "stdout",
     "output_type": "stream",
     "text": [
      "Train size =  220291\n",
      "Validation size =  24477\n"
     ]
    }
   ],
   "source": [
    "from sklearn.model_selection import train_test_split\n",
    "\n",
    "data_train, data_val = train_test_split(data, test_size=0.1, random_state=42)\n",
    "\n",
    "print(\"Train size = \", len(data_train))\n",
    "print(\"Validation size = \", len(data_val))"
   ]
  },
  {
   "cell_type": "code",
   "execution_count": 18,
   "metadata": {},
   "outputs": [],
   "source": [
    "def generate_batch(data, batch_size=None, replace=True, max_len=None):\n",
    "    \"\"\"\n",
    "    Creates a pytorch-friendly dict from the batch data.\n",
    "    :returns: a dict with {'title' : int64[batch, title_max_len]\n",
    "    \"\"\"\n",
    "    if batch_size is not None:\n",
    "        data = data.sample(batch_size, replace=replace)\n",
    "    \n",
    "    batch = {}\n",
    "    for col in text_columns:\n",
    "        batch[col] = as_matrix(data[col].values, max_len)\n",
    "    \n",
    "    batch['Categorical'] = categorical_vectorizer.transform(data[categorical_columns].apply(lambda x: dict(x), axis=1))\n",
    "    \n",
    "    if target_column in data.columns:\n",
    "        batch[target_column] = data[target_column].values\n",
    "    \n",
    "    return batch"
   ]
  },
  {
   "cell_type": "markdown",
   "metadata": {},
   "source": [
    "### Finally, let's talk deep learning\n",
    "\n",
    "Out model consists of three branches:\n",
    "* Title encoder\n",
    "* Description encoder\n",
    "* Categorical features encoder\n",
    "\n",
    "We will then feed all 3 branches into one common network that predicts salary.\n",
    "\n",
    "![scheme](https://github.com/yandexdataschool/Practical_DL/raw/master/homework04/conv_salary_architecture.png)"
   ]
  },
  {
   "cell_type": "markdown",
   "metadata": {},
   "source": [
    "By default, both text vectorizers shall use 1d convolutions, followed by global pooling over time."
   ]
  },
  {
   "cell_type": "code",
   "execution_count": 19,
   "metadata": {},
   "outputs": [],
   "source": [
    "import torch, torch.nn as nn\n",
    "import torch.nn.functional as F\n",
    "from torch.autograd import Variable\n",
    "\n",
    "class GlobalMaxPooling(nn.Module):\n",
    "    def __init__(self, dim=-1):\n",
    "        super(self.__class__, self).__init__()\n",
    "        self.dim = dim\n",
    "        \n",
    "    def forward(self, x):\n",
    "        return x.max(dim=self.dim)[0]"
   ]
  },
  {
   "cell_type": "code",
   "execution_count": 20,
   "metadata": {},
   "outputs": [],
   "source": [
    "class TitleEncoder(nn.Module):\n",
    "    def __init__(self, n_tokens=len(tokens), out_size=64):\n",
    "        \"\"\" \n",
    "        A simple sequential encoder for titles.\n",
    "        x -> emb -> conv -> global_max -> relu -> dense\n",
    "        \"\"\"\n",
    "        super(self.__class__, self).__init__()\n",
    "        self.emb = nn.Embedding(n_tokens, 64, padding_idx=PAD_IX)\n",
    "        self.conv1 = nn.Conv1d(64, out_size, kernel_size=3, padding=1)\n",
    "        self.pool1 = GlobalMaxPooling()\n",
    "        self.relu = nn.ReLU(inplace=True)\n",
    "        self.dense = nn.Linear(out_size, out_size)\n",
    "\n",
    "    def forward(self, text_ix):\n",
    "        \"\"\"\n",
    "        :param text_ix: int64 Variable of shape [batch_size, max_len]\n",
    "        :returns: float32 Variable of shape [batch_size, out_size]\n",
    "        \"\"\"\n",
    "        h = self.emb(text_ix)\n",
    "\n",
    "        # we transpose from [batch, time, units] to [batch, units, time] to fit Conv1d dim order\n",
    "        h = torch.transpose(h, 1, 2)\n",
    "        \n",
    "        # Apply the layers as defined above. Add some ReLUs before dense.\n",
    "        h = self.conv1(h)\n",
    "        h = self.pool1(h)\n",
    "        h = self.relu(h)\n",
    "        h = self.dense(h)\n",
    "        \n",
    "        return h"
   ]
  },
  {
   "cell_type": "code",
   "execution_count": 21,
   "metadata": {},
   "outputs": [
    {
     "name": "stdout",
     "output_type": "stream",
     "text": [
      "Seems fine\n"
     ]
    }
   ],
   "source": [
    "title_encoder = TitleEncoder(out_size=64)\n",
    "\n",
    "dummy_x = Variable(torch.LongTensor(generate_batch(data_train, 3)['Title']))\n",
    "dummy_v = title_encoder(dummy_x)\n",
    "\n",
    "assert isinstance(dummy_v, Variable)\n",
    "assert tuple(dummy_v.shape) == (dummy_x.shape[0], 64)\n",
    "\n",
    "del title_encoder\n",
    "print(\"Seems fine\")"
   ]
  },
  {
   "cell_type": "markdown",
   "metadata": {},
   "source": [
    "__Task 2.1__ Create description encoder"
   ]
  },
  {
   "cell_type": "code",
   "execution_count": 22,
   "metadata": {},
   "outputs": [],
   "source": [
    "# Define an encoder for job descriptions.\n",
    "# Use any means you want so long as it's torch.nn.Module.\n",
    "class DescriptionEncoder(nn.Module):\n",
    "    def __init__(self, n_tokens=len(tokens), out_size=64):\n",
    "        \"\"\" \n",
    "        A simple sequential encoder for titles.\n",
    "        x -> emb -> conv -> global_max -> relu -> dense\n",
    "        \"\"\"\n",
    "        super(self.__class__, self).__init__()\n",
    "        self.emb = nn.Embedding(n_tokens, 64, padding_idx=PAD_IX)\n",
    "        self.conv1 = nn.Conv1d(64, out_size, kernel_size=3, padding=1)\n",
    "        self.pool1 = GlobalMaxPooling()\n",
    "        self.relu = nn.ReLU(inplace=True)\n",
    "        self.dense = nn.Linear(out_size, out_size)\n",
    "\n",
    "    def forward(self, text_ix):\n",
    "        \"\"\"\n",
    "        :param text_ix: int64 Variable of shape [batch_size, max_len]\n",
    "        :returns: float32 Variable of shape [batch_size, out_size]\n",
    "        \"\"\"\n",
    "        h = self.emb(text_ix)\n",
    "\n",
    "        # we transpose from [batch, time, units] to [batch, units, time] to fit Conv1d dim order\n",
    "        h = torch.transpose(h, 1, 2)\n",
    "        \n",
    "        # Apply the layers as defined above. Add some ReLUs before dense.\n",
    "        h = self.conv1(h)\n",
    "        h = self.pool1(h)\n",
    "        h = self.relu(h)\n",
    "        h = self.dense(h)\n",
    "        \n",
    "        return h"
   ]
  },
  {
   "cell_type": "code",
   "execution_count": 23,
   "metadata": {},
   "outputs": [
    {
     "name": "stdout",
     "output_type": "stream",
     "text": [
      "Seems fine too\n"
     ]
    }
   ],
   "source": [
    "desc_encoder = DescriptionEncoder(out_size=64)\n",
    "\n",
    "dummy_x = Variable(torch.LongTensor(generate_batch(data_train, 3)['FullDescription']))\n",
    "dummy_v = desc_encoder(dummy_x)\n",
    "\n",
    "assert isinstance(dummy_v, Variable)\n",
    "assert tuple(dummy_v.shape) == (dummy_x.shape[0], 64)\n",
    "del desc_encoder\n",
    "print(\"Seems fine too\")"
   ]
  },
  {
   "cell_type": "markdown",
   "metadata": {},
   "source": [
    "__Task 2.2__ Build one network ~~to rule them all~~"
   ]
  },
  {
   "cell_type": "code",
   "execution_count": 24,
   "metadata": {},
   "outputs": [],
   "source": [
    "class FullNetwork(nn.Module):\n",
    "    \"\"\"\n",
    "    This class does all the steps from (title, desc, categorical) features -> predicted target\n",
    "    It unites title & desc encoders you defined above as long as some layers for head and categorical branch.\n",
    "    \"\"\"\n",
    "    \n",
    "    def __init__(self, n_tokens=len(tokens), n_cat_features=len(categorical_vectorizer.vocabulary_)):\n",
    "        super(self.__class__, self).__init__()\n",
    "        \n",
    "        self.title_encoder = TitleEncoder(out_size=64)\n",
    "        self.desc_encoder = DescriptionEncoder(out_size=64)\n",
    "        \n",
    "        # define layers for categorical features. A few dense layers would do.\n",
    "        self.cat_layers = nn.Sequential(\n",
    "            nn.Linear(n_cat_features, 128),\n",
    "            nn.ReLU(inplace=True),\n",
    "            nn.Linear(128, 32)\n",
    "        )\n",
    "        \n",
    "        # define \"output\" layers that process depend the three encoded vectors into answer\n",
    "        self.out = nn.Linear(64 + 64 + 32, 1)\n",
    "        \n",
    "    def forward(self, title_ix, desc_ix, cat_features):\n",
    "        \"\"\"\n",
    "        :param title_ix: int32 Variable [batch, title_len], job titles encoded by as_matrix\n",
    "        :param desc_ix:  int32 Variable [batch, desc_len] , job descriptions encoded by as_matrix\n",
    "        :param cat_features: float32 Variable [batch, n_cat_features]\n",
    "        :returns: float32 Variable 1d [batch], predicted log1p-salary\n",
    "        \"\"\"\n",
    "        \n",
    "        # process each data source with it's respective encoder\n",
    "        title_h = self.title_encoder(title_ix)\n",
    "        desc_h = self.desc_encoder(desc_ix)\n",
    "        \n",
    "        # apply categorical encoder\n",
    "        cat_h = self.cat_layers(cat_features)\n",
    "        \n",
    "        # concatenate all vectors together...\n",
    "        joint_h = torch.cat([title_h, desc_h, cat_h], dim=1)\n",
    "        \n",
    "        # ... and stack a few more layers at the top\n",
    "        out = self.out(joint_h)\n",
    "        \n",
    "        # Note 1: do not forget to select first columns, [:, 0], to get to 1d outputs\n",
    "        # Note 2: please do not use output nonlinearities.\n",
    "        \n",
    "        return out[:, 0]"
   ]
  },
  {
   "cell_type": "code",
   "execution_count": 25,
   "metadata": {},
   "outputs": [],
   "source": [
    "device = torch.device(\"cuda\")"
   ]
  },
  {
   "cell_type": "code",
   "execution_count": 26,
   "metadata": {},
   "outputs": [],
   "source": [
    "model = FullNetwork()\n",
    "model.to(device)\n",
    "\n",
    "opt = torch.optim.Adam(model.parameters(), lr=1e-3)"
   ]
  },
  {
   "cell_type": "code",
   "execution_count": 27,
   "metadata": {},
   "outputs": [],
   "source": [
    "# test it on one batch\n",
    "\n",
    "batch = generate_batch(data_train, 32)\n",
    "\n",
    "title_ix = torch.tensor(batch[\"Title\"], dtype=torch.int64).to(device)\n",
    "desc_ix = torch.tensor(batch[\"FullDescription\"], dtype=torch.int64).to(device)\n",
    "cat_features = torch.tensor(batch[\"Categorical\"], dtype=torch.float32).to(device)\n",
    "reference = torch.tensor(batch[target_column], dtype=torch.float32).to(device)\n",
    "\n",
    "prediction = model(title_ix, desc_ix, cat_features)\n",
    "\n",
    "assert len(prediction.shape) == 1 and prediction.shape[0] == title_ix.shape[0]"
   ]
  },
  {
   "cell_type": "code",
   "execution_count": 28,
   "metadata": {},
   "outputs": [],
   "source": [
    "def compute_loss(reference, prediction):\n",
    "    \"\"\"\n",
    "    Computes objective for minimization.\n",
    "    By deafult we minimize MSE, but you are encouraged to try mix up MSE, MAE, huber loss, etc.\n",
    "    \"\"\"\n",
    "    return torch.mean((prediction - reference) ** 2)\n",
    "\n",
    "def compute_mae(reference, prediction):\n",
    "    \"\"\" Compute MAE on actual salary, assuming your model outputs log1p(salary)\"\"\"\n",
    "    return torch.abs(torch.exp(reference) - torch.exp(prediction)).mean()"
   ]
  },
  {
   "cell_type": "code",
   "execution_count": 29,
   "metadata": {},
   "outputs": [],
   "source": [
    "loss = compute_loss(reference, prediction)\n",
    "dummy_grads = torch.autograd.grad(loss, model.parameters(), retain_graph=True)\n",
    "for grad in dummy_grads:\n",
    "    assert grad is not None and not (grad == 0).all(), \"Some model parameters received zero grads. \" \\\n",
    "                                                       \"Double-check that your model uses all it's layers.\""
   ]
  },
  {
   "cell_type": "markdown",
   "metadata": {},
   "source": [
    "### Let's train it!"
   ]
  },
  {
   "cell_type": "code",
   "execution_count": 30,
   "metadata": {},
   "outputs": [],
   "source": [
    "from tqdm import tnrange\n",
    "def iterate_minibatches(data, batch_size=32, max_len=None,\n",
    "                        max_batches=None, shuffle=True, verbose=True):\n",
    "    indices = np.arange(len(data))\n",
    "    if shuffle:\n",
    "        indices = np.random.permutation(indices)\n",
    "    if max_batches is not None:\n",
    "        indices = indices[: batch_size * max_batches]\n",
    "        \n",
    "    irange = tnrange if verbose else range\n",
    "    \n",
    "    for start in irange(0, len(indices), batch_size):\n",
    "        yield generate_batch(data.iloc[indices[start : start + batch_size]], max_len=max_len)"
   ]
  },
  {
   "cell_type": "code",
   "execution_count": 31,
   "metadata": {},
   "outputs": [],
   "source": [
    "num_epochs = 30\n",
    "max_len = 100\n",
    "train_batch_size = 128\n",
    "val_batch_size = 512\n",
    "batches_per_epoch = 100"
   ]
  },
  {
   "cell_type": "code",
   "execution_count": 32,
   "metadata": {},
   "outputs": [
    {
     "data": {
      "image/png": "[encoded data removed]",
      "text/plain": [
       "<Figure size 864x288 with 2 Axes>"
      ]
     },
     "metadata": {
      "needs_background": "light"
     },
     "output_type": "display_data"
    }
   ],
   "source": [
    "train_losses, val_losses = [], []\n",
    "train_maes, val_maes = [], []\n",
    "for epoch_i in range(num_epochs):\n",
    "    \n",
    "    print(\"Training:\")\n",
    "    train_loss = train_mae = train_batches = 0    \n",
    "    model.train(True)\n",
    "    \n",
    "    for batch in iterate_minibatches(data_train, batch_size=train_batch_size,\n",
    "                                     max_batches=batches_per_epoch, max_len=max_len):\n",
    "        \n",
    "        title_ix = torch.tensor(batch[\"Title\"], dtype=torch.int64).to(device)\n",
    "        desc_ix = torch.tensor(batch[\"FullDescription\"], dtype=torch.int64).to(device)\n",
    "        cat_features = torch.tensor(batch[\"Categorical\"], dtype=torch.float32).to(device)\n",
    "        reference = torch.tensor(batch[target_column], dtype=torch.float32).to(device)\n",
    "\n",
    "        prediction = model(title_ix, desc_ix, cat_features)\n",
    "\n",
    "        loss = compute_loss(reference, prediction)\n",
    "        loss.backward()\n",
    "        opt.step()\n",
    "        opt.zero_grad()\n",
    "\n",
    "        train_loss += loss.item()\n",
    "        train_mae += compute_mae(reference, prediction).item()\n",
    "        train_batches += 1\n",
    "    \n",
    "    print(\"\\tTrain Loss:\\t%.5f\" % (train_loss / train_batches))\n",
    "    print(\"\\tTrain MAE:\\t%.5f\" % (train_mae / train_batches))\n",
    "    print('\\n\\n')\n",
    "    \n",
    "    train_losses.append(train_loss / train_batches)\n",
    "    train_maes.append(train_mae / train_batches)\n",
    "    \n",
    "    print(\"Validation:\")\n",
    "    val_loss = val_mae = val_batches = 0\n",
    "    model.train(False)\n",
    "    \n",
    "    for batch in iterate_minibatches(data_val, batch_size=val_batch_size,\n",
    "                                     max_len=max_len, shuffle=False):\n",
    "        title_ix = torch.tensor(batch[\"Title\"], dtype=torch.int64).to(device)\n",
    "        desc_ix = torch.tensor(batch[\"FullDescription\"], dtype=torch.int64).to(device)\n",
    "        cat_features = torch.tensor(batch[\"Categorical\"], dtype=torch.float32).to(device)\n",
    "        reference = torch.tensor(batch[target_column], dtype=torch.float32).to(device)\n",
    "        prediction = model(title_ix, desc_ix, cat_features)\n",
    "        loss = compute_loss(reference, prediction)\n",
    "\n",
    "        val_loss += loss.item()\n",
    "        val_mae += compute_mae(reference, prediction).item()\n",
    "        val_batches += 1\n",
    "        \n",
    "    print(\"\\tVal Loss:\\t%.5f\" % (val_loss / val_batches))\n",
    "    print(\"\\tVal MAE:\\t%.5f\" % (val_mae / val_batches))\n",
    "    print('\\n\\n')\n",
    "    \n",
    "    val_losses.append(val_loss / val_batches)\n",
    "    val_maes.append(val_mae / val_batches)\n",
    "    \n",
    "    clear_output()\n",
    "    \n",
    "    plt.figure(figsize=(12, 4))\n",
    "    \n",
    "    plt.subplot(1, 2, 1)\n",
    "    plt.plot(train_losses, label=\"Train Loss\")\n",
    "    plt.plot(val_losses, label=\"Val Loss\")\n",
    "    plt.legend()\n",
    "    \n",
    "    plt.subplot(1, 2, 2)\n",
    "    plt.plot(train_maes, label=\"Train MAE\")\n",
    "    plt.plot(val_maes, label=\"Val MAE\")\n",
    "    plt.legend()\n",
    "    \n",
    "    plt.show()"
   ]
  },
  {
   "cell_type": "code",
   "execution_count": 33,
   "metadata": {},
   "outputs": [
    {
     "name": "stdout",
     "output_type": "stream",
     "text": [
      "Final eval:\n"
     ]
    },
    {
     "data": {
      "application/vnd.jupyter.widget-view+json": {
       "model_id": "979646b35d1446719f3d6fa054841a21",
       "version_major": 2,
       "version_minor": 0
      },
      "text/plain": [
       "HBox(children=(IntProgress(value=0, max=48), HTML(value='')))"
      ]
     },
     "metadata": {},
     "output_type": "display_data"
    },
    {
     "name": "stdout",
     "output_type": "stream",
     "text": [
      "\n",
      "\tLoss:\t0.09121\n",
      "\tMAE:\t7530.88299\n",
      "\n",
      "\n",
      "\n"
     ]
    }
   ],
   "source": [
    "print(\"Final eval:\")\n",
    "val_loss = val_mae = val_batches = 0\n",
    "\n",
    "for batch in iterate_minibatches(data_val, batch_size=val_batch_size, max_len=max_len, shuffle=False):\n",
    "    title_ix = torch.tensor(batch[\"Title\"], dtype=torch.int64).to(device)\n",
    "    desc_ix = torch.tensor(batch[\"FullDescription\"], dtype=torch.int64).to(device)\n",
    "    cat_features = torch.tensor(batch[\"Categorical\"], dtype=torch.float32).to(device)\n",
    "    reference = torch.tensor(batch[target_column], dtype=torch.float32).to(device)\n",
    "\n",
    "    prediction = model(title_ix, desc_ix, cat_features)\n",
    "    loss = compute_loss(reference, prediction)\n",
    "\n",
    "    val_loss += loss.item()\n",
    "    val_mae += compute_mae(reference, prediction).item()\n",
    "    val_batches += 1\n",
    "\n",
    "print(\"\\tLoss:\\t%.5f\" % (val_loss / val_batches))\n",
    "print(\"\\tMAE:\\t%.5f\" % (val_mae / val_batches))\n",
    "print('\\n\\n')"
   ]
  },
  {
   "cell_type": "markdown",
   "metadata": {},
   "source": [
    "### Task 3: explaining network predictions\n",
    "\n",
    "It's usually a good idea to understand what your model does before you let it make actual decisions. It's simple for linear models: just see which words learned positive or negative weights. However, its much harder for neural networks that learn complex nonlinear dependencies.\n",
    "\n",
    "There are, however, some ways to look inside the black box:\n",
    "* Seeing how model responds to input perturbations\n",
    "* Finding inputs that maximize/minimize activation of some chosen neurons (_read more [on distill.pub](https://distill.pub/2018/building-blocks/)_)\n",
    "* Building local linear approximations to your neural network: [article](https://arxiv.org/abs/1602.04938), [eli5 library](https://github.com/TeamHG-Memex/eli5/tree/master/eli5/formatters)\n",
    "\n",
    "Today we gonna try the first method just because it's the simplest one.\n",
    "\n",
    "__Your task__ is to measure how does model prediction change if you replace certain tokens with UNKs. The core idea is that if dropping a word from text causes model to predict lower log-salary, than this word probably has positive contribution to salary (and vice versa)."
   ]
  },
  {
   "cell_type": "code",
   "execution_count": 34,
   "metadata": {},
   "outputs": [],
   "source": [
    "def predict_batch(model, batch):\n",
    "    title_ix = torch.tensor(batch[\"Title\"], dtype=torch.int64).to(device)\n",
    "    desc_ix = torch.tensor(batch[\"FullDescription\"], dtype=torch.int64).to(device)\n",
    "    cat_features = torch.tensor(batch[\"Categorical\"], dtype=torch.float32).to(device)\n",
    "    reference = torch.tensor(batch[target_column], dtype=torch.float32).to(device)\n",
    "    \n",
    "    return model(title_ix, desc_ix, cat_features).item()"
   ]
  },
  {
   "cell_type": "code",
   "execution_count": 35,
   "metadata": {},
   "outputs": [],
   "source": [
    "def explain(model, sample, col_name='Title'):\n",
    "    \"\"\" Computes the effect each word had on model predictions \"\"\"\n",
    "    \n",
    "    batch = generate_batch(sample)\n",
    "    \n",
    "    # compute model prediction on sample (scalar float log-salary)\n",
    "    baseline_pred = predict_batch(model, batch)\n",
    "    \n",
    "    # for each i-th token in :col_name:, compute predictions on a copy of data\n",
    "    # where i-th token is dropped (UNK)\n",
    "    \n",
    "    predictions_without_word, calc_tokens = [], []\n",
    "    for drop_idx in range(len(batch[col_name][0])):\n",
    "        dropped_batch = batch.copy()\n",
    "        calc_tokens.append(tokens[dropped_batch[col_name][0][drop_idx]])\n",
    "        dropped_batch[col_name][0][drop_idx] = token_to_id[\"UNK\"]\n",
    "        predictions_without_word.append(predict_batch(model, dropped_batch))\n",
    "        \n",
    "    score_differences = [\n",
    "        prediction - baseline_pred for prediction in predictions_without_word\n",
    "    ]\n",
    "    \n",
    "    # return a list of pairs: [(token, score_difference)]\n",
    "    return [(token, score) for token, score in zip(calc_tokens, score_differences)]"
   ]
  },
  {
   "cell_type": "code",
   "execution_count": 36,
   "metadata": {},
   "outputs": [
    {
     "name": "stdout",
     "output_type": "stream",
     "text": [
      "Input:               Id         Title  \\\n",
      "212597  72231224  audit senior   \n",
      "\n",
      "                                          FullDescription  \\\n",
      "212597  audit senior bath **** 35 , 000 my client , a ...   \n",
      "\n",
      "                    LocationRaw LocationNormalized ContractType ContractTime  \\\n",
      "212597  Bristol Avon South West                 UK          NaN    permanent   \n",
      "\n",
      "       Company                   Category                      SalaryRaw  \\\n",
      "212597    Hays  Accounting & Finance Jobs  30000.00 - 35000.00 per annum   \n",
      "\n",
      "        SalaryNormalized     SourceName  Log1pSalary  \n",
      "212597             32500  totaljobs.com    10.389026  \n",
      "[('audit', -0.05349540710449219), ('senior', -0.10566329956054688)]\n"
     ]
    }
   ],
   "source": [
    "# debugging area\n",
    "idx = np.random.randint(len(data))\n",
    "sample = data.iloc[idx:(idx+1)]\n",
    "print(\"Input:\", sample)\n",
    "\n",
    "tokens_and_weights = explain(model, sample, \"Title\")\n",
    "print(tokens_and_weights)"
   ]
  },
  {
   "cell_type": "code",
   "execution_count": 37,
   "metadata": {},
   "outputs": [],
   "source": [
    "from IPython.display import HTML, display_html\n",
    "\n",
    "def draw_html(tokens_and_weights, cmap=plt.get_cmap(\"bwr\"), display=True,\n",
    "              token_template=\"\"\"<span style=\"background-color: {color_hex}\">{token}</span>\"\"\",\n",
    "              font_style=\"font-size:14px;\"\n",
    "             ):\n",
    "    \n",
    "    def get_color_hex(weight):\n",
    "        rgba = cmap(1. / (1 + np.exp(weight)), bytes=True)\n",
    "        return '#%02X%02X%02X' % rgba[:3]\n",
    "    \n",
    "    tokens_html = [\n",
    "        token_template.format(token=token, color_hex=get_color_hex(weight))\n",
    "        for token, weight in tokens_and_weights\n",
    "    ]\n",
    "    \n",
    "    \n",
    "    raw_html = \"\"\"<p style=\"{}\">{}</p>\"\"\".format(font_style, ' '.join(tokens_html))\n",
    "    if display:\n",
    "        display_html(HTML(raw_html))\n",
    "        \n",
    "    return raw_html\n",
    "    "
   ]
  },
  {
   "cell_type": "raw",
   "metadata": {},
   "source": []
  },
  {
   "cell_type": "code",
   "execution_count": 39,
   "metadata": {},
   "outputs": [
    {
     "name": "stdout",
     "output_type": "stream",
     "text": [
      "Index: 156082\n",
      "Real salary: 19200\n",
      "Salary predicted (gbp): 68723\n"
     ]
    },
    {
     "data": {
      "text/html": [
       "<p style=\"font-size:20px;\"><span style=\"background-color: #FFF8F8\">creative</span> <span style=\"background-color: #FFF8F8\">processors</span> <span style=\"background-color: #E0E0FF\">/</span> <span style=\"background-color: #D2D2FF\">administrators</span> <span style=\"background-color: #FAFAFF\">advertising</span> <span style=\"background-color: #FFA2A2\">festival</span></p>"
      ]
     },
     "metadata": {},
     "output_type": "display_data"
    },
    {
     "data": {
      "text/html": [
       "<p style=\"font-size:14px;\"><span style=\"background-color: #F0F0FF\">we</span> <span style=\"background-color: #FFFEFE\">are</span> <span style=\"background-color: #FFFAFA\">looking</span> <span style=\"background-color: #E3E3FF\">for</span> <span style=\"background-color: #FFFAFA\">several</span> <span style=\"background-color: #FFFAFA\">bright</span> <span style=\"background-color: #FFFAFA\">,</span> <span style=\"background-color: #FFFAFA\">capable</span> <span style=\"background-color: #E8E8FF\">creative</span> <span style=\"background-color: #F3F3FF\">entry</span> <span style=\"background-color: #FFFAFA\">administrators</span> <span style=\"background-color: #EEEEFF\">to</span> <span style=\"background-color: #FFF8F8\">work</span> <span style=\"background-color: #FFFAFA\">for</span> <span style=\"background-color: #FFF8F8\">a</span> <span style=\"background-color: #F0F0FF\">high</span> <span style=\"background-color: #FFF8F8\">profile</span> <span style=\"background-color: #FFF8F8\">media</span> <span style=\"background-color: #F6F6FF\">/</span> <span style=\"background-color: #FFFAFA\">creative</span> <span style=\"background-color: #FFFEFE\">awards</span> <span style=\"background-color: #F8F8FF\">festival</span> <span style=\"background-color: #ECECFF\">.</span> <span style=\"background-color: #FAFAFF\">as</span> <span style=\"background-color: #FFF8F8\">creative</span> <span style=\"background-color: #FFF8F8\">processor</span> <span style=\"background-color: #FFF8F8\">you</span> <span style=\"background-color: #FFF8F8\">will</span> <span style=\"background-color: #FFF8F8\">receive</span> <span style=\"background-color: #E8E8FF\">creative</span> <span style=\"background-color: #E8E8FF\">entry</span> <span style=\"background-color: #E0E0FF\">material</span> <span style=\"background-color: #FFFAFA\">that</span> <span style=\"background-color: #FFF2F2\">has</span> <span style=\"background-color: #FFD8D8\">been</span> <span style=\"background-color: #FFDEDE\">entered</span> <span style=\"background-color: #FFEAEA\">by</span> <span style=\"background-color: #FFC8C8\">global</span> <span style=\"background-color: #FFE2E2\">creative</span> <span style=\"background-color: #FFC8C8\">agencies</span> <span style=\"background-color: #FFCACA\">and</span> <span style=\"background-color: #FFD3D3\">check</span> <span style=\"background-color: #FFC8C8\">that</span> <span style=\"background-color: #FFCECE\">it</span> <span style=\"background-color: #FFA8A8\">has</span> <span style=\"background-color: #FFA8A8\">been</span> <span style=\"background-color: #FFAEAE\">entered</span> <span style=\"background-color: #FFA8A8\">correctly</span> <span style=\"background-color: #FFA8A8\">.</span> <span style=\"background-color: #FFA8A8\">the</span> <span style=\"background-color: #FFACAC\">creative</span> <span style=\"background-color: #FFA0A0\">entry</span> <span style=\"background-color: #FF9393\">material</span> <span style=\"background-color: #FF9393\">will</span> <span style=\"background-color: #FFA3A3\">be</span> <span style=\"background-color: #FF9393\">creative</span> <span style=\"background-color: #FF9393\">/</span> <span style=\"background-color: #FF8282\">advertising</span> <span style=\"background-color: #FF7474\">campaigns</span> <span style=\"background-color: #FF7474\">and</span> <span style=\"background-color: #FF7474\">the</span> <span style=\"background-color: #FF6969\">categories</span> <span style=\"background-color: #FF7676\">include</span> <span style=\"background-color: #FF6969\">press</span> <span style=\"background-color: #FF6969\">,</span> <span style=\"background-color: #FF6969\">outdoor</span> <span style=\"background-color: #FF6E6E\">,</span> <span style=\"background-color: #FF6969\">digital</span> <span style=\"background-color: #FF6969\">,</span> <span style=\"background-color: #FF6969\">tv</span> <span style=\"background-color: #FF6969\">,</span> <span style=\"background-color: #FF6969\">cinema</span> <span style=\"background-color: #FF6969\">,</span> <span style=\"background-color: #FF7979\">sales</span> <span style=\"background-color: #FF6969\">promo</span> <span style=\"background-color: #FF8686\">,</span> <span style=\"background-color: #FF6868\">direct</span> <span style=\"background-color: #FF6868\">marketing</span> <span style=\"background-color: #FF6868\">,</span> <span style=\"background-color: #FF6868\">mobile</span> <span style=\"background-color: #FF6868\">,</span> <span style=\"background-color: #FF6060\">design</span> <span style=\"background-color: #FF5E5E\">and</span> <span style=\"background-color: #FF5E5E\">pr</span> <span style=\"background-color: #FF5E5E\">.</span> <span style=\"background-color: #FF5E5E\">any</span> <span style=\"background-color: #FF7171\">problem</span> <span style=\"background-color: #FF6464\">entry</span> <span style=\"background-color: #FF5C5C\">material</span> <span style=\"background-color: #FF5959\">will</span> <span style=\"background-color: #FF5959\">be</span> <span style=\"background-color: #FF5959\">supported</span> <span style=\"background-color: #FF5454\">via</span> <span style=\"background-color: #FF5454\">email</span> <span style=\"background-color: #FF5454\">/</span> <span style=\"background-color: #FF5454\">phone</span> <span style=\"background-color: #FF5656\">to</span> <span style=\"background-color: #FF5454\">ensure</span> <span style=\"background-color: #FF6666\">each</span> <span style=\"background-color: #FF5454\">entry</span> <span style=\"background-color: #FF6464\">follows</span> <span style=\"background-color: #FF4E4E\">guidelines</span> <span style=\"background-color: #FF5050\">,</span> <span style=\"background-color: #FF5959\">all</span> <span style=\"background-color: #FF4848\">material</span> <span style=\"background-color: #FF4949\">must</span> <span style=\"background-color: #FF4949\">be</span> <span style=\"background-color: #FF4646\">logged</span> <span style=\"background-color: #FF4E4E\">and</span> <span style=\"background-color: #FF6060\">coded</span> <span style=\"background-color: #FF4646\">on</span> <span style=\"background-color: #FF4848\">to</span> <span style=\"background-color: #FF4646\">a</span> <span style=\"background-color: #FF4444\">database</span> <span style=\"background-color: #FF4444\">.</span> <span style=\"background-color: #FF4444\">you</span> <span style=\"background-color: #FF4C4C\">will</span> <span style=\"background-color: #FF3C3C\">work</span> <span style=\"background-color: #FF3C3C\">within</span> <span style=\"background-color: #FF3E3E\">a</span> <span style=\"background-color: #FF3C3C\">team</span> <span style=\"background-color: #FF3E3E\">,</span> <span style=\"background-color: #FF3C3C\">work</span> <span style=\"background-color: #FF3C3C\">to</span> <span style=\"background-color: #FF4040\">tight</span> <span style=\"background-color: #FF3838\">deadlines</span> <span style=\"background-color: #FF4E4E\">and</span> <span style=\"background-color: #FF4040\">at</span> <span style=\"background-color: #FF2C2C\">times</span> <span style=\"background-color: #FF2E2E\">be</span> <span style=\"background-color: #FF3131\">expected</span> <span style=\"background-color: #FF3838\">to</span> <span style=\"background-color: #FF2C2C\">work</span> <span style=\"background-color: #FF2C2C\">long</span> <span style=\"background-color: #FF2C2C\">hours</span> <span style=\"background-color: #FF3131\">and</span> <span style=\"background-color: #FF2929\">weekends</span> <span style=\"background-color: #FF2929\">leading</span> <span style=\"background-color: #FF2828\">up</span> <span style=\"background-color: #FF2828\">to</span> <span style=\"background-color: #FF2828\">the</span> <span style=\"background-color: #FF2929\">festival</span> <span style=\"background-color: #FF2828\">.</span> <span style=\"background-color: #FF2020\">rate</span> <span style=\"background-color: #FF2020\">****</span> <span style=\"background-color: #FF2020\">per</span> <span style=\"background-color: #FF2929\">hour</span> <span style=\"background-color: #FF2626\">.</span> <span style=\"background-color: #FF2020\">contract</span> <span style=\"background-color: #FF2020\">dates</span> <span style=\"background-color: #FF2626\">11</span> <span style=\"background-color: #FF2121\">march</span> <span style=\"background-color: #FF2020\">through</span> <span style=\"background-color: #FF2929\">to</span> <span style=\"background-color: #FF2E2E\">22</span> <span style=\"background-color: #FF2020\">june</span> <span style=\"background-color: #FF1111\">2013</span> <span style=\"background-color: #FF1111\">.</span> <span style=\"background-color: #FF1616\">no</span> <span style=\"background-color: #FF1111\">days</span> <span style=\"background-color: #FF1111\">off</span> <span style=\"background-color: #FF1414\">monday</span> <span style=\"background-color: #FF1010\">friday</span> <span style=\"background-color: #FF1010\">during</span> <span style=\"background-color: #FF1010\">these</span> <span style=\"background-color: #FF1414\">dates</span> <span style=\"background-color: #FF1010\">.</span> <span style=\"background-color: #FF1111\">full</span> <span style=\"background-color: #FF0E0E\">training</span> <span style=\"background-color: #FF1111\">will</span> <span style=\"background-color: #FF0E0E\">be</span> <span style=\"background-color: #FF0E0E\">given</span> <span style=\"background-color: #FF0C0C\">so</span> <span style=\"background-color: #FF0E0E\">it</span> <span style=\"background-color: #FF0E0E\">requires</span> <span style=\"background-color: #FF0C0C\">total</span> <span style=\"background-color: #FF0C0C\">commitment</span> <span style=\"background-color: #FF0909\">to</span> <span style=\"background-color: #FF0C0C\">the</span> <span style=\"background-color: #FF0909\">contract</span> <span style=\"background-color: #FF0C0C\">.</span> <span style=\"background-color: #FF0808\">based</span> <span style=\"background-color: #FF0808\">on</span> <span style=\"background-color: #FF0808\">the</span> <span style=\"background-color: #FF0808\">work</span> <span style=\"background-color: #FF0606\">performance</span> <span style=\"background-color: #FF0404\">of</span> <span style=\"background-color: #FF0404\">creative</span> <span style=\"background-color: #FF0606\">processors</span> <span style=\"background-color: #FF0404\">you</span> <span style=\"background-color: #FF0404\">may</span> <span style=\"background-color: #FF0404\">be</span> <span style=\"background-color: #FF0404\">asked</span> <span style=\"background-color: #FF0404\">to</span> <span style=\"background-color: #FF0404\">join</span> <span style=\"background-color: #FF0404\">the</span> <span style=\"background-color: #FF0404\">team</span> <span style=\"background-color: #FF0101\">to</span> <span style=\"background-color: #FF0101\">work</span> <span style=\"background-color: #FF0101\">at</span> <span style=\"background-color: #FF0101\">the</span> <span style=\"background-color: #FF0404\">festival</span> <span style=\"background-color: #FF0404\">in</span> <span style=\"background-color: #FF0404\">june</span> <span style=\"background-color: #FF0101\">2013</span> <span style=\"background-color: #FF0101\">this</span> <span style=\"background-color: #FF0101\">will</span> <span style=\"background-color: #FF0101\">be</span> <span style=\"background-color: #FF0101\">based</span> <span style=\"background-color: #FF0101\">in</span> <span style=\"background-color: #FF0000\">france</span> <span style=\"background-color: #FF0000\">.</span> <span style=\"background-color: #FF0000\">requires</span> <span style=\"background-color: #FF0101\">a</span> <span style=\"background-color: #FF0000\">genuine</span> <span style=\"background-color: #FF0000\">passion</span> <span style=\"background-color: #FF0000\">/</span> <span style=\"background-color: #FF0000\">understanding</span> <span style=\"background-color: #FF0000\">for</span> <span style=\"background-color: #FF0000\">creative</span> <span style=\"background-color: #FF0000\">communication</span> <span style=\"background-color: #FF0000\">and</span> <span style=\"background-color: #FF0000\">experience</span> <span style=\"background-color: #FF0000\">within</span> <span style=\"background-color: #FF0000\">or</span> <span style=\"background-color: #FF0000\">exposure</span> <span style=\"background-color: #FF0000\">to</span> <span style=\"background-color: #FF0000\">the</span> <span style=\"background-color: #FF0000\">media</span> <span style=\"background-color: #FF0000\">/</span> <span style=\"background-color: #FF0000\">creative</span> <span style=\"background-color: #FF0000\">industry</span> <span style=\"background-color: #FF0000\">through</span> <span style=\"background-color: #FF0000\">education</span> <span style=\"background-color: #FF0000\">or</span> <span style=\"background-color: #FF0000\">work</span> <span style=\"background-color: #FF0000\">experience</span> <span style=\"background-color: #FF0000\">.</span> <span style=\"background-color: #FF0000\">any</span> <span style=\"background-color: #FF0000\">solid</span> <span style=\"background-color: #FF0000\">administrative</span> <span style=\"background-color: #FF0000\">and</span> <span style=\"background-color: #FF0000\">/</span> <span style=\"background-color: #FF0000\">or</span> <span style=\"background-color: #FF0000\">data</span> <span style=\"background-color: #FF0000\">entry</span> <span style=\"background-color: #FF0000\">/</span> <span style=\"background-color: #FF0000\">management</span> <span style=\"background-color: #FF0000\">experience</span> <span style=\"background-color: #FF0000\">is</span> <span style=\"background-color: #FF0000\">essential</span> <span style=\"background-color: #FF0000\">.</span> <span style=\"background-color: #FF0000\">intermediate</span> <span style=\"background-color: #FF0000\">excel</span> <span style=\"background-color: #FF0000\">.</span> <span style=\"background-color: #FF0000\">good</span> <span style=\"background-color: #FF0000\">attention</span> <span style=\"background-color: #FF0000\">to</span> <span style=\"background-color: #FF0000\">detail</span> <span style=\"background-color: #FF0000\">is</span> <span style=\"background-color: #FF0000\">essential</span> <span style=\"background-color: #FF0000\">.</span> <span style=\"background-color: #FF0000\">you</span> <span style=\"background-color: #FF0000\">must</span> <span style=\"background-color: #FF0000\">have</span> <span style=\"background-color: #FF0000\">excellent</span> <span style=\"background-color: #FF0000\">/</span> <span style=\"background-color: #FF0000\">fluent</span> <span style=\"background-color: #FF0000\">written</span> <span style=\"background-color: #FF0000\">/</span> <span style=\"background-color: #FF0000\">spoken</span> <span style=\"background-color: #FF0000\">english</span> <span style=\"background-color: #FF0000\">although</span> <span style=\"background-color: #FF0000\">a</span> <span style=\"background-color: #FF0000\">second</span> <span style=\"background-color: #FF0000\">language</span> <span style=\"background-color: #FF0000\">would</span> <span style=\"background-color: #FF0000\">be</span> <span style=\"background-color: #FF0000\">beneficial</span> <span style=\"background-color: #FF0000\">french</span> <span style=\"background-color: #FF0000\">,</span> <span style=\"background-color: #FF0000\">german</span> <span style=\"background-color: #FF0000\">,</span> <span style=\"background-color: #FF0000\">spanish</span> <span style=\"background-color: #FF0000\">,</span> <span style=\"background-color: #FF0000\">portuguese</span> <span style=\"background-color: #FF0000\">,</span> <span style=\"background-color: #FF0000\">japanese</span> <span style=\"background-color: #FF0000\">etc</span> <span style=\"background-color: #FF0000\">.</span> <span style=\"background-color: #FF0000\">this</span> <span style=\"background-color: #FF0000\">is</span> <span style=\"background-color: #FF0000\">an</span> <span style=\"background-color: #FF0000\">amazing</span> <span style=\"background-color: #FF0000\">opportunity</span> <span style=\"background-color: #FF0000\">to</span> <span style=\"background-color: #FF0000\">work</span> <span style=\"background-color: #FF0000\">for</span> <span style=\"background-color: #FF0000\">a</span> <span style=\"background-color: #FF0000\">high</span> <span style=\"background-color: #FF0000\">profile</span> <span style=\"background-color: #FF0000\">media</span> <span style=\"background-color: #FF0000\">/</span> <span style=\"background-color: #FF0000\">creative</span> <span style=\"background-color: #FF0000\">awards</span> <span style=\"background-color: #FF0000\">festival</span> <span style=\"background-color: #FF0000\">that</span> <span style=\"background-color: #FF0000\">celebrates</span> <span style=\"background-color: #FF0000\">creative</span> <span style=\"background-color: #FF0000\">communication</span> <span style=\"background-color: #FF0000\">in</span> <span style=\"background-color: #FF0000\">all</span> <span style=\"background-color: #FF0000\">its</span> <span style=\"background-color: #FF0000\">forms</span> <span style=\"background-color: #FF0000\">.</span> <span style=\"background-color: #FF0000\">pay</span> <span style=\"background-color: #FF0000\">rate</span> <span style=\"background-color: #FF0000\">****</span> <span style=\"background-color: #FF0000\">per</span> <span style=\"background-color: #FF0000\">hour</span> <span style=\"background-color: #FF0000\">depending</span> <span style=\"background-color: #FF0000\">on</span> <span style=\"background-color: #FF0000\">position</span> <span style=\"background-color: #FF0000\">registration</span> <span style=\"background-color: #FF0000\">with</span> <span style=\"background-color: #FF0000\">profiles</span> <span style=\"background-color: #FF0000\">creative</span> <span style=\"background-color: #FF0000\">commence</span> <span style=\"background-color: #FF0000\">asap</span> <span style=\"background-color: #FF0000\">if</span> <span style=\"background-color: #FF0000\">possible</span> <span style=\"background-color: #FF0000\">please</span> <span style=\"background-color: #FF0000\">state</span> <span style=\"background-color: #FF0000\">which</span> <span style=\"background-color: #FF0000\">position</span> <span style=\"background-color: #FF0000\">you</span> <span style=\"background-color: #FF0000\">are</span> <span style=\"background-color: #FF0000\">interested</span> <span style=\"background-color: #FF0000\">in</span> <span style=\"background-color: #FF0000\">and</span> <span style=\"background-color: #FF0000\">apply</span> <span style=\"background-color: #FF0000\">with</span> <span style=\"background-color: #FF0000\">a</span> <span style=\"background-color: #FF0000\">word</span> <span style=\"background-color: #FF0000\">format</span> <span style=\"background-color: #FF0000\">cv</span> <span style=\"background-color: #FF0000\">if</span> <span style=\"background-color: #FF0000\">you</span> <span style=\"background-color: #FF0000\">feel</span> <span style=\"background-color: #FF0000\">your</span> <span style=\"background-color: #FF0000\">background</span> <span style=\"background-color: #FF0000\">is</span> <span style=\"background-color: #FF0000\">suitable</span> <span style=\"background-color: #FF0000\">please</span> <span style=\"background-color: #FF0000\">send</span> <span style=\"background-color: #FF0000\">your</span> <span style=\"background-color: #FF0000\">cv</span> <span style=\"background-color: #FF0000\">via</span> <span style=\"background-color: #FF0000\">this</span> <span style=\"background-color: #FF0000\">portal</span> <span style=\"background-color: #FF0000\">or</span> <span style=\"background-color: #FF0000\">directly</span> <span style=\"background-color: #FF0000\">to</span> <span style=\"background-color: #FF0000\">me</span> <span style=\"background-color: #FF0000\">at</span> <span style=\"background-color: #FF0000\">UNK</span> <span style=\"background-color: #FF0000\">.</span> <span style=\"background-color: #FF0000\">com</span> <span style=\"background-color: #FF0000\">subject</span> <span style=\"background-color: #FF0000\">field</span> <span style=\"background-color: #FF0000\">must</span> <span style=\"background-color: #FF0000\">state</span> <span style=\"background-color: #FF0000\">lm</span> <span style=\"background-color: #FF0000\">/</span> <span style=\"background-color: #FF0000\">creative</span> <span style=\"background-color: #FF0000\">processor</span></p>"
      ]
     },
     "metadata": {},
     "output_type": "display_data"
    }
   ],
   "source": [
    "i = np.random.randint(len(data))\n",
    "sample = data.iloc[i:(i+1)]\n",
    "print(\"Index:\", i)\n",
    "\n",
    "batch = generate_batch(sample)\n",
    "\n",
    "# predict salary on sample\n",
    "print(\"Real salary:\", int(sample[\"SalaryNormalized\"]))\n",
    "print(\"Salary predicted (gbp):\", int(round(np.expm1(predict_batch(model, batch)))))\n",
    "\n",
    "tokens_and_weights = explain(model, sample, \"Title\")\n",
    "draw_html([(tok, weight * 5) for tok, weight in tokens_and_weights], font_style='font-size:20px;');\n",
    "\n",
    "tokens_and_weights = explain(model, sample, \"FullDescription\")\n",
    "draw_html([(tok, weight * 10) for tok, weight in tokens_and_weights]);"
   ]
  },
  {
   "cell_type": "markdown",
   "metadata": {},
   "source": [
    "### Task 4: Actually make it work\n",
    "\n",
    "Your main task is to use some of the tricks you've learned on the network and analyze if you can improve __validation MAE__.\n",
    "\n",
    "Try __at least 3 options__ from the list below for a passing grade. If you're into \n",
    "\n",
    "#### A) CNN architecture\n",
    "\n",
    "All the tricks you know about dense and convolutional neural networks apply here as well.\n",
    "* Dropout. Nuff said.\n",
    "* Batch Norm. This time it's `nn.BatchNorm1d`\n",
    "* Parallel convolution layers. The idea is that you apply several nn.Conv1d to the same embeddings and concatenate output channels.\n",
    "* More layers, more neurons, ya know...\n",
    "\n",
    "\n",
    "#### B) Play with pooling\n",
    "\n",
    "There's more than one way to do max pooling:\n",
    "* Max over time - our `GlobalMaxPooling`\n",
    "* Average over time (excluding PAD)\n",
    "* Softmax-pooling:\n",
    "$$ out_{i, t} = \\sum_t {h_{i,t} \\cdot {{e ^ {h_{i, t}}} \\over \\sum_\\tau e ^ {h_{j, \\tau}} } }$$\n",
    "\n",
    "* Attentive pooling\n",
    "$$ out_{i, t} = \\sum_t {h_{i,t} \\cdot Attn(h_t)}$$\n",
    "\n",
    ", where $$ Attn(h_t) = {{e ^ {NN_{attn}(h_t)}} \\over \\sum_\\tau e ^ {NN_{attn}(h_\\tau)}}  $$\n",
    "and $NN_{attn}$ is a small neural network\n",
    "\n",
    "\n",
    "The optimal score is usually achieved by concatenating several different poolings, including several attentive pooling with different $NN_{attn}$\n",
    "\n",
    "#### C) Fun with embeddings\n",
    "\n",
    "It's not always a good idea to train embeddings from scratch. Here's a few tricks:\n",
    "\n",
    "* Use a pre-trained word2vec from [here](http://ahogrammer.com/2017/01/20/the-list-of-pretrained-word-embeddings/) or [here](http://mccormickml.com/2016/04/12/googles-pretrained-word2vec-model-in-python/).\n",
    "* Start with pre-trained embeddings, then fine-tune them with gradient descent\n",
    "* Use the same embedding matrix in title and desc vectorizer\n",
    "\n",
    "#### D) Going recurrent\n",
    "\n",
    "We've already learned that recurrent networks can do cool stuff in sequence modelling. Turns out, they're not useless for classification as well. With some tricks of course..\n",
    "\n",
    "* Like convolutional layers, LSTM should be pooled into a fixed-size vector with some of the poolings.\n",
    "  * Please bear in mind that while convolution uses [batch, units, time] dim order, \n",
    "    recurrent units are built for [batch, time, unit]. You may need to `torch.transpose`.\n",
    "\n",
    "* Since you know all the text in advance, use bidirectional RNN\n",
    "  * Run one LSTM from left to right\n",
    "  * Run another in parallel from right to left \n",
    "  * Concatenate their output sequences along unit axis (dim=-1)\n",
    "\n",
    "* It might be good idea to mix convolutions and recurrent layers differently for title and description\n",
    "\n",
    "\n",
    "#### E) Optimizing seriously\n",
    "\n",
    "* You don't necessarily need 100 epochs. Use early stopping. If you've never done this before, take a look at [keras](https://github.com/keras-team/keras/blob/master/keras/callbacks.py#L461) for inspiration.\n",
    "  * In short, train until you notice that validation\n",
    "  * Maintain the best-on-validation snapshot via `model.state_dict`\n",
    "  * Plotting learning curves is usually a good idea"
   ]
  },
  {
   "cell_type": "raw",
   "metadata": {},
   "source": []
  },
  {
   "cell_type": "markdown",
   "metadata": {},
   "source": [
    "### Let's do it"
   ]
  },
  {
   "cell_type": "code",
   "execution_count": 62,
   "metadata": {},
   "outputs": [],
   "source": [
    "class AdvancedTitleEncoder(nn.Module):\n",
    "    def __init__(self, n_tokens=len(tokens), out_size=64):\n",
    "        super(self.__class__, self).__init__()\n",
    "        self.emb = nn.Embedding(n_tokens, 64, padding_idx=PAD_IX)\n",
    "        \n",
    "        self.conv1 = nn.Conv1d(64, out_size, kernel_size=3, padding=1)\n",
    "        self.pool1 = GlobalMaxPooling()\n",
    "        self.bn1 = nn.BatchNorm1d(out_size)\n",
    "        self.dropout1 = nn.Dropout(0.5)\n",
    "        self.relu1 = nn.ReLU(inplace=True)\n",
    "        \n",
    "        self.dense = nn.Linear(out_size, out_size)\n",
    "\n",
    "    def forward(self, text_ix):\n",
    "        h = self.emb(text_ix)\n",
    "\n",
    "        # we transpose from [batch, time, units] to [batch, units, time] to fit Conv1d dim order\n",
    "        h = torch.transpose(h, 1, 2)\n",
    "        \n",
    "        # Apply the layers as defined above. Add some ReLUs before dense.\n",
    "        h = self.conv1(h)\n",
    "        h = self.pool1(h)\n",
    "        h = self.bn1(h)\n",
    "        h = self.dropout1(h)\n",
    "        h = self.relu1(h)\n",
    "        h = self.dense(h)\n",
    "        \n",
    "        return h"
   ]
  },
  {
   "cell_type": "code",
   "execution_count": 71,
   "metadata": {},
   "outputs": [],
   "source": [
    "class AdvancedDescriptionEncoder(nn.Module):\n",
    "    def __init__(self, n_tokens=len(tokens), out_size=64):\n",
    "        super(self.__class__, self).__init__()\n",
    "        self.emb = nn.Embedding(n_tokens, 64, padding_idx=PAD_IX)\n",
    "        \n",
    "        self.rnn = nn.LSTM(\n",
    "            input_size=64,\n",
    "            hidden_size=100,\n",
    "            num_layers=1,\n",
    "            bidirectional=True,\n",
    "            batch_first=True\n",
    "        ) \n",
    "        \n",
    "        self.pool = GlobalMaxPooling(dim=1)\n",
    "        self.dense = nn.Linear(100 * 2, out_size)\n",
    "\n",
    "    def forward(self, text_ix, hidden=None):\n",
    "        h = self.emb(text_ix)\n",
    "        output, hidden = self.rnn(h, hidden)\n",
    "        h = self.pool(output)\n",
    "        h = self.dense(h)\n",
    "        return h"
   ]
  },
  {
   "cell_type": "code",
   "execution_count": 72,
   "metadata": {},
   "outputs": [],
   "source": [
    "class AdvancedFullNetwork(nn.Module):\n",
    "    def __init__(self, n_tokens=len(tokens), n_cat_features=len(categorical_vectorizer.vocabulary_)):\n",
    "        super(self.__class__, self).__init__()\n",
    "        \n",
    "        self.title_encoder = AdvancedTitleEncoder(out_size=64)\n",
    "        self.desc_encoder = AdvancedDescriptionEncoder(out_size=64)\n",
    "        \n",
    "        self.cat_layers = nn.Sequential(\n",
    "            nn.Linear(n_cat_features, 128),\n",
    "            nn.ReLU(inplace=True),\n",
    "            nn.Linear(128, 32)\n",
    "        )\n",
    "        \n",
    "        self.out = nn.Linear(64 + 64 + 32, 1)\n",
    "        \n",
    "    def forward(self, title_ix, desc_ix, cat_features):\n",
    "        title_h = self.title_encoder(title_ix)\n",
    "        desc_h = self.desc_encoder(desc_ix)\n",
    "        \n",
    "        cat_h = self.cat_layers(cat_features)\n",
    "        joint_h = torch.cat([title_h, desc_h, cat_h], dim=1)\n",
    "        out = self.out(joint_h)\n",
    "        return out[:, 0]"
   ]
  },
  {
   "cell_type": "code",
   "execution_count": 73,
   "metadata": {},
   "outputs": [],
   "source": [
    "model = AdvancedFullNetwork()\n",
    "model.to(device)\n",
    "\n",
    "opt = torch.optim.Adam(model.parameters(), lr=1e-3)"
   ]
  },
  {
   "cell_type": "code",
   "execution_count": 75,
   "metadata": {},
   "outputs": [],
   "source": [
    "num_epochs = 100\n",
    "max_len = 100\n",
    "train_batch_size = 128\n",
    "val_batch_size = 512\n",
    "batches_per_epoch = 100\n",
    "\n",
    "epochs_for_early_stoping = 5\n",
    "best_val_mae = None"
   ]
  },
  {
   "cell_type": "code",
   "execution_count": 76,
   "metadata": {},
   "outputs": [],
   "source": [
    "since_best = 0"
   ]
  },
  {
   "cell_type": "code",
   "execution_count": 77,
   "metadata": {},
   "outputs": [
    {
     "data": {
      "image/png": "[encoded data removed]",
      "text/plain": [
       "<Figure size 864x288 with 2 Axes>"
      ]
     },
     "metadata": {
      "needs_background": "light"
     },
     "output_type": "display_data"
    },
    {
     "name": "stdout",
     "output_type": "stream",
     "text": [
      "Early stopping at 75 epoch\n"
     ]
    }
   ],
   "source": [
    "train_losses, val_losses = [], []\n",
    "train_maes, val_maes = [], []\n",
    "for epoch_i in range(num_epochs):\n",
    "    \n",
    "    print(\"Training:\")\n",
    "    train_loss = train_mae = train_batches = 0    \n",
    "    model.train(True)\n",
    "    \n",
    "    for batch in iterate_minibatches(data_train, batch_size=train_batch_size,\n",
    "                                     max_batches=batches_per_epoch, max_len=max_len):\n",
    "        \n",
    "        title_ix = torch.tensor(batch[\"Title\"], dtype=torch.int64).to(device)\n",
    "        desc_ix = torch.tensor(batch[\"FullDescription\"], dtype=torch.int64).to(device)\n",
    "        cat_features = torch.tensor(batch[\"Categorical\"], dtype=torch.float32).to(device)\n",
    "        reference = torch.tensor(batch[target_column], dtype=torch.float32).to(device)\n",
    "\n",
    "        prediction = model(title_ix, desc_ix, cat_features)\n",
    "\n",
    "        loss = compute_loss(reference, prediction)\n",
    "        loss.backward()\n",
    "        opt.step()\n",
    "        opt.zero_grad()\n",
    "\n",
    "        train_loss += loss.item()\n",
    "        train_mae += compute_mae(reference, prediction).item()\n",
    "        train_batches += 1\n",
    "    \n",
    "    print(\"\\tTrain Loss:\\t%.5f\" % (train_loss / train_batches))\n",
    "    print(\"\\tTrain MAE:\\t%.5f\" % (train_mae / train_batches))\n",
    "    print('\\n\\n')\n",
    "    \n",
    "    train_losses.append(train_loss / train_batches)\n",
    "    train_maes.append(train_mae / train_batches)\n",
    "    \n",
    "    print(\"Validation:\")\n",
    "    val_loss = val_mae = val_batches = 0\n",
    "    model.train(False)\n",
    "    \n",
    "    for batch in iterate_minibatches(data_val, batch_size=val_batch_size,\n",
    "                                     max_len=max_len, shuffle=False):\n",
    "        title_ix = torch.tensor(batch[\"Title\"], dtype=torch.int64).to(device)\n",
    "        desc_ix = torch.tensor(batch[\"FullDescription\"], dtype=torch.int64).to(device)\n",
    "        cat_features = torch.tensor(batch[\"Categorical\"], dtype=torch.float32).to(device)\n",
    "        reference = torch.tensor(batch[target_column], dtype=torch.float32).to(device)\n",
    "        prediction = model(title_ix, desc_ix, cat_features)\n",
    "        loss = compute_loss(reference, prediction)\n",
    "\n",
    "        val_loss += loss.item()\n",
    "        val_mae += compute_mae(reference, prediction).item()\n",
    "        val_batches += 1\n",
    "        \n",
    "    print(\"\\tVal Loss:\\t%.5f\" % (val_loss / val_batches))\n",
    "    print(\"\\tVal MAE:\\t%.5f\" % (val_mae / val_batches))\n",
    "    print('\\n\\n')\n",
    "    \n",
    "    val_losses.append(val_loss / val_batches)\n",
    "    val_maes.append(val_mae / val_batches)\n",
    "    \n",
    "    clear_output()\n",
    "    \n",
    "    plt.figure(figsize=(12, 4))\n",
    "    \n",
    "    plt.subplot(1, 2, 1)\n",
    "    plt.plot(train_losses, label=\"Train Loss\")\n",
    "    plt.plot(val_losses, label=\"Val Loss\")\n",
    "    plt.legend()\n",
    "    \n",
    "    plt.subplot(1, 2, 2)\n",
    "    plt.plot(train_maes, label=\"Train MAE\")\n",
    "    plt.plot(val_maes, label=\"Val MAE\")\n",
    "    plt.legend()\n",
    "    \n",
    "    plt.show()\n",
    "    \n",
    "    if best_val_mae is None or val_mae / val_batches < best_val_mae:\n",
    "        since_best = 0\n",
    "        best_val_mae = val_mae / val_batches\n",
    "        torch.save(model.state_dict(), \"./models/salary_best_model.chkp\")\n",
    "    else:\n",
    "        since_best += 1\n",
    "    \n",
    "    if since_best > epochs_for_early_stoping:\n",
    "        print(\"Early stopping at {} epoch\".format(epoch_i + 1))\n",
    "        break"
   ]
  },
  {
   "cell_type": "code",
   "execution_count": 79,
   "metadata": {},
   "outputs": [
    {
     "name": "stdout",
     "output_type": "stream",
     "text": [
      "Final eval:\n"
     ]
    },
    {
     "data": {
      "application/vnd.jupyter.widget-view+json": {
       "model_id": "0b855604e6924083bed2dae19c026965",
       "version_major": 2,
       "version_minor": 0
      },
      "text/plain": [
       "HBox(children=(IntProgress(value=0, max=48), HTML(value='')))"
      ]
     },
     "metadata": {},
     "output_type": "display_data"
    },
    {
     "name": "stdout",
     "output_type": "stream",
     "text": [
      "\n",
      "\tLoss:\t0.06466\n",
      "\tMAE:\t6480.07945\n",
      "\n",
      "\n",
      "\n"
     ]
    }
   ],
   "source": [
    "print(\"Final eval:\")\n",
    "val_loss = val_mae = val_batches = 0\n",
    "\n",
    "for batch in iterate_minibatches(data_val, batch_size=val_batch_size, max_len=max_len, shuffle=False):\n",
    "    title_ix = torch.tensor(batch[\"Title\"], dtype=torch.int64).to(device)\n",
    "    desc_ix = torch.tensor(batch[\"FullDescription\"], dtype=torch.int64).to(device)\n",
    "    cat_features = torch.tensor(batch[\"Categorical\"], dtype=torch.float32).to(device)\n",
    "    reference = torch.tensor(batch[target_column], dtype=torch.float32).to(device)\n",
    "\n",
    "    prediction = model(title_ix, desc_ix, cat_features)\n",
    "    loss = compute_loss(reference, prediction)\n",
    "\n",
    "    val_loss += loss.item()\n",
    "    val_mae += compute_mae(reference, prediction).item()\n",
    "    val_batches += 1\n",
    "\n",
    "print(\"\\tLoss:\\t%.5f\" % (val_loss / val_batches))\n",
    "print(\"\\tMAE:\\t%.5f\" % (val_mae / val_batches))\n",
    "print('\\n\\n')"
   ]
  },
  {
   "cell_type": "markdown",
   "metadata": {},
   "source": [
    "### In short\n",
    "\n",
    "So, I implemented\n",
    "\n",
    "* bidirectional LSTM in DescriptionEncoder with GlobalMaxPooling through all time points\n",
    "* Add BatchNorm and Dropout to TitleEncoder (CNN)\n",
    "* Used validation MAE for early stopping (and save checkpoints with best validation MAE)\n",
    "\n",
    "Validation MAE equals `6480`\n",
    "\n",
    "P.S. Also I tried to implement several CNN with concatenation (no result)."
   ]
  }
 ],
 "metadata": {
  "kernelspec": {
   "display_name": "Python 3",
   "language": "python",
   "name": "python3"
  },
  "language_info": {
   "codemirror_mode": {
    "name": "ipython",
    "version": 3
   },
   "file_extension": ".py",
   "mimetype": "text/x-python",
   "name": "python",
   "nbconvert_exporter": "python",
   "pygments_lexer": "ipython3",
   "version": "3.5.4"
  }
 },
 "nbformat": 4,
 "nbformat_minor": 2
}
